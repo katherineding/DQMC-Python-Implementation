{
 "cells": [
  {
   "cell_type": "code",
   "execution_count": 1,
   "metadata": {},
   "outputs": [],
   "source": [
    "import numpy as np\n",
    "import matplotlib.pyplot as plt\n",
    "from scipy.interpolate import InterpolatedUnivariateSpline\n",
    "\n",
    "import data_analysis as da\n",
    "%load_ext autoreload"
   ]
  },
  {
   "cell_type": "code",
   "execution_count": 2,
   "metadata": {},
   "outputs": [],
   "source": [
    "%autoreload 2"
   ]
  },
  {
   "cell_type": "code",
   "execution_count": 3,
   "metadata": {},
   "outputs": [],
   "source": [
    "SMALL_SIZE = 14\n",
    "MEDIUM_SIZE = 16\n",
    "BIGGER_SIZE = 18\n",
    "\n",
    "plt.rc('font', size=SMALL_SIZE)          # controls default text sizes\n",
    "plt.rc('axes', titlesize=MEDIUM_SIZE)     # fontsize of the axes title\n",
    "plt.rc('axes', labelsize=MEDIUM_SIZE)    # fontsize of the x and y labels\n",
    "plt.rc('xtick', labelsize=MEDIUM_SIZE)    # fontsize of the tick labels\n",
    "plt.rc('ytick', labelsize=MEDIUM_SIZE)    # fontsize of the tick labels\n",
    "plt.rc('legend', fontsize=MEDIUM_SIZE)    # legend fontsize\n",
    "#plt.rc('figure', titlesize=BIGGER_SIZE)  # fontsize of the figure title"
   ]
  },
  {
   "cell_type": "code",
   "execution_count": 4,
   "metadata": {},
   "outputs": [],
   "source": [
    "plotroot=\"hallplots/compressibility/\"\n",
    "resultroot=\"halldata/compressibility/\"\n",
    "#resultroot1=\"halldata/maxent/02_25_2020/\"\n",
    "#resultroot2=\"halldata/maxent/02_26_2020/\""
   ]
  },
  {
   "cell_type": "code",
   "execution_count": 5,
   "metadata": {},
   "outputs": [],
   "source": [
    "Nx = \"10\"; Ny = \"10\"; nt = \"1.0\"; tp='0'; N = int(Nx) * int(Ny)\n",
    "if Nx == '6' and Ny == '6':\n",
    "    nflux_list = ['0','2','4','6','8','10','12','14','16'];\n",
    "    Us_list =['0','4','6','8']\n",
    "    betas_list = ['3','4','5','6']\n",
    "elif Nx == '8' and Ny == '8' and tp =='0':\n",
    "    nflux_list = ['0','1','2','3','4','6','8','12','16','20','24','28','32'];\n",
    "    Us_list =['0','2','4','6','8']\n",
    "    betas_list = ['3','4','5','6']\n",
    "elif Nx == '8' and Ny == '8' and tp =='-0.25':\n",
    "    nflux_list = ['0','8','16','24','32'];\n",
    "    Us_list =['0','4','6','8']\n",
    "    betas_list = ['3','4','5','6']\n",
    "elif Nx == \"10\" and Ny == \"10\":\n",
    "    nflux_list = ['0','6','12','18','25','32','37','43','50'];\n",
    "    Us_list =['0','4','6','8']\n",
    "    betas_list = ['3','4','5','6']\n",
    "nf_arr = np.array(list(map(float,nflux_list)));\n",
    "B_arr = nf_arr/N; \n",
    "nF = len(nflux_list);nT = len(betas_list);nU = len(Us_list)\n",
    "tt_prefix = f\"{Nx}x{Ny} t'={tp}\""
   ]
  },
  {
   "cell_type": "code",
   "execution_count": 6,
   "metadata": {},
   "outputs": [
    {
     "name": "stdout",
     "output_type": "stream",
     "text": [
      "/media/katherine/Elements/NotOnDell/Data-DQMC/compressibility/\n"
     ]
    }
   ],
   "source": [
    "pathroot = f\"/media/katherine/Elements/NotOnDell/Data-DQMC/compressibility/\"\n",
    "print(pathroot)\n",
    "mu_arr = np.linspace(-6,6,101); nmu = mu_arr.shape[0];"
   ]
  },
  {
   "cell_type": "code",
   "execution_count": 7,
   "metadata": {},
   "outputs": [
    {
     "name": "stdout",
     "output_type": "stream",
     "text": [
      "nflux_list: ['0', '6', '12', '18', '25', '32', '37', '43', '50'] length = 9\n",
      "betas_list: ['3', '4', '5', '6'] length = 4\n",
      "Us_list: ['0', '4', '6', '8'] length = 4\n"
     ]
    }
   ],
   "source": [
    "print(\"nflux_list:\",nflux_list,\"length =\",len(nflux_list))\n",
    "print(\"betas_list:\",betas_list,\"length =\",nT);\n",
    "print(\"Us_list:\",Us_list,\"length =\",nU); "
   ]
  },
  {
   "cell_type": "code",
   "execution_count": 8,
   "metadata": {
    "scrolled": true
   },
   "outputs": [
    {
     "name": "stdout",
     "output_type": "stream",
     "text": [
      "/media/katherine/Elements/NotOnDell/Data-DQMC/compressibility/10x10_tp0_nflux0/n1.0/beta3_U0/mu-6.000/\n",
      "\t\t\t\t\t\t\t\u001b[94m temp low, n_sweep_meas = 105000 < 1e6 \u001b[0m \n",
      "\u001b[93m10/10 bins not sufficient for maxent \u001b[0m\n",
      "\t\t\t\t\t\t\t\u001b[94m temp low, n_sweep_meas = 105000 < 1e6 \u001b[0m \n",
      "\u001b[93m10/10 bins not sufficient for maxent \u001b[0m\n",
      "/media/katherine/Elements/NotOnDell/Data-DQMC/compressibility/10x10_tp0_nflux0/n1.0/beta3_U0/mu-5.880/\n",
      "\t\t\t\t\t\t\t\u001b[94m temp low, n_sweep_meas = 105000 < 1e6 \u001b[0m \n",
      "\u001b[93m10/10 bins not sufficient for maxent \u001b[0m\n"
     ]
    },
    {
     "ename": "KeyboardInterrupt",
     "evalue": "",
     "output_type": "error",
     "traceback": [
      "\u001b[0;31m---------------------------------------------------------------------------\u001b[0m",
      "\u001b[0;31mKeyboardInterrupt\u001b[0m                         Traceback (most recent call last)",
      "\u001b[0;32m<ipython-input-8-deb2272887cd>\u001b[0m in \u001b[0;36m<module>\u001b[0;34m\u001b[0m\n\u001b[1;32m     14\u001b[0m                 \u001b[0mprint\u001b[0m\u001b[0;34m(\u001b[0m\u001b[0mdpath\u001b[0m\u001b[0;34m)\u001b[0m\u001b[0;34m\u001b[0m\u001b[0;34m\u001b[0m\u001b[0m\n\u001b[1;32m     15\u001b[0m                 \u001b[0;32mtry\u001b[0m\u001b[0;34m:\u001b[0m\u001b[0;34m\u001b[0m\u001b[0;34m\u001b[0m\u001b[0m\n\u001b[0;32m---> 16\u001b[0;31m                     \u001b[0mdm\u001b[0m\u001b[0;34m,\u001b[0m\u001b[0mde\u001b[0m \u001b[0;34m=\u001b[0m \u001b[0mda\u001b[0m\u001b[0;34m.\u001b[0m\u001b[0mfull_density\u001b[0m\u001b[0;34m(\u001b[0m\u001b[0mdpath\u001b[0m\u001b[0;34m)\u001b[0m\u001b[0;34m\u001b[0m\u001b[0;34m\u001b[0m\u001b[0m\n\u001b[0m\u001b[1;32m     17\u001b[0m                     \u001b[0msm\u001b[0m\u001b[0;34m,\u001b[0m\u001b[0mse\u001b[0m \u001b[0;34m=\u001b[0m \u001b[0mda\u001b[0m\u001b[0;34m.\u001b[0m\u001b[0mfull_sign\u001b[0m\u001b[0;34m(\u001b[0m\u001b[0mdpath\u001b[0m\u001b[0;34m,\u001b[0m\u001b[0muneqlt\u001b[0m\u001b[0;34m=\u001b[0m\u001b[0;32mFalse\u001b[0m\u001b[0;34m)\u001b[0m\u001b[0;34m\u001b[0m\u001b[0;34m\u001b[0m\u001b[0m\n\u001b[1;32m     18\u001b[0m                 \u001b[0;32mexcept\u001b[0m \u001b[0mIndexError\u001b[0m \u001b[0;32mas\u001b[0m \u001b[0me\u001b[0m\u001b[0;34m:\u001b[0m\u001b[0;34m\u001b[0m\u001b[0;34m\u001b[0m\u001b[0m\n",
      "\u001b[0;32m~/Documents/GradWork/Devereaux/Code-DQMC-Python/src/data_analysis.py\u001b[0m in \u001b[0;36mfull_density\u001b[0;34m(path)\u001b[0m\n\u001b[1;32m    137\u001b[0m \u001b[0;34m\u001b[0m\u001b[0m\n\u001b[1;32m    138\u001b[0m     \u001b[0mns_meas\u001b[0m\u001b[0;34m,\u001b[0m \u001b[0mL\u001b[0m\u001b[0;34m,\u001b[0m \u001b[0mpe\u001b[0m \u001b[0;34m=\u001b[0m \u001b[0mutil\u001b[0m\u001b[0;34m.\u001b[0m\u001b[0mload_firstfile\u001b[0m\u001b[0;34m(\u001b[0m\u001b[0mpath\u001b[0m\u001b[0;34m,\u001b[0m\u001b[0;34m\"params/n_sweep_meas\"\u001b[0m\u001b[0;34m,\u001b[0m\u001b[0;34m\"params/L\"\u001b[0m\u001b[0;34m,\u001b[0m\u001b[0;34m\"params/period_eqlt\"\u001b[0m\u001b[0;34m)\u001b[0m\u001b[0;34m\u001b[0m\u001b[0;34m\u001b[0m\u001b[0m\n\u001b[0;32m--> 139\u001b[0;31m     \u001b[0mns\u001b[0m\u001b[0;34m,\u001b[0m \u001b[0ms\u001b[0m\u001b[0;34m,\u001b[0m \u001b[0md\u001b[0m \u001b[0;34m=\u001b[0m \u001b[0mutil\u001b[0m\u001b[0;34m.\u001b[0m\u001b[0mload\u001b[0m\u001b[0;34m(\u001b[0m\u001b[0mpath\u001b[0m\u001b[0;34m,\u001b[0m \u001b[0;34m\"meas_eqlt/n_sample\"\u001b[0m\u001b[0;34m,\u001b[0m \u001b[0;34m\"meas_eqlt/sign\"\u001b[0m\u001b[0;34m,\u001b[0m\u001b[0;34m\"meas_eqlt/density\"\u001b[0m\u001b[0;34m)\u001b[0m\u001b[0;34m\u001b[0m\u001b[0;34m\u001b[0m\u001b[0m\n\u001b[0m\u001b[1;32m    140\u001b[0m \u001b[0;34m\u001b[0m\u001b[0m\n\u001b[1;32m    141\u001b[0m     \u001b[0;31m#at least one bin is full, print info\u001b[0m\u001b[0;34m\u001b[0m\u001b[0;34m\u001b[0m\u001b[0;34m\u001b[0m\u001b[0m\n",
      "\u001b[0;32m~/Documents/GradWork/Devereaux/DQMC-Sync-SHERLOCK/edwin/dqmc/util/util.py\u001b[0m in \u001b[0;36mload\u001b[0;34m(path, *args)\u001b[0m\n\u001b[1;32m     24\u001b[0m         \u001b[0ma\u001b[0m\u001b[0;34m[\u001b[0m\u001b[0;34m-\u001b[0m\u001b[0;36m1\u001b[0m\u001b[0;34m,\u001b[0m \u001b[0;34m...\u001b[0m\u001b[0;34m]\u001b[0m \u001b[0;34m=\u001b[0m \u001b[0ma_last\u001b[0m\u001b[0;34m\u001b[0m\u001b[0;34m\u001b[0m\u001b[0m\n\u001b[1;32m     25\u001b[0m     \u001b[0;32mfor\u001b[0m \u001b[0mi\u001b[0m\u001b[0;34m,\u001b[0m \u001b[0mf\u001b[0m \u001b[0;32min\u001b[0m \u001b[0menumerate\u001b[0m\u001b[0;34m(\u001b[0m\u001b[0mfiles\u001b[0m\u001b[0;34m)\u001b[0m\u001b[0;34m:\u001b[0m\u001b[0;34m\u001b[0m\u001b[0;34m\u001b[0m\u001b[0m\n\u001b[0;32m---> 26\u001b[0;31m         \u001b[0;32mfor\u001b[0m \u001b[0ma\u001b[0m\u001b[0;34m,\u001b[0m \u001b[0ma_i\u001b[0m \u001b[0;32min\u001b[0m \u001b[0mzip\u001b[0m\u001b[0;34m(\u001b[0m\u001b[0mdata\u001b[0m\u001b[0;34m,\u001b[0m \u001b[0mload_file\u001b[0m\u001b[0;34m(\u001b[0m\u001b[0mf\u001b[0m\u001b[0;34m,\u001b[0m \u001b[0;34m*\u001b[0m\u001b[0margs\u001b[0m\u001b[0;34m)\u001b[0m\u001b[0;34m)\u001b[0m\u001b[0;34m:\u001b[0m\u001b[0;34m\u001b[0m\u001b[0;34m\u001b[0m\u001b[0m\n\u001b[0m\u001b[1;32m     27\u001b[0m             \u001b[0ma\u001b[0m\u001b[0;34m[\u001b[0m\u001b[0mi\u001b[0m\u001b[0;34m,\u001b[0m \u001b[0;34m...\u001b[0m\u001b[0;34m]\u001b[0m \u001b[0;34m=\u001b[0m \u001b[0ma_i\u001b[0m\u001b[0;34m\u001b[0m\u001b[0;34m\u001b[0m\u001b[0m\n\u001b[1;32m     28\u001b[0m     \u001b[0;32mreturn\u001b[0m \u001b[0mdata\u001b[0m\u001b[0;34m\u001b[0m\u001b[0;34m\u001b[0m\u001b[0m\n",
      "\u001b[0;32m~/Documents/GradWork/Devereaux/DQMC-Sync-SHERLOCK/edwin/dqmc/util/util.py\u001b[0m in \u001b[0;36mload_file\u001b[0;34m(path, *args)\u001b[0m\n\u001b[1;32m      6\u001b[0m \u001b[0;32mdef\u001b[0m \u001b[0mload_file\u001b[0m\u001b[0;34m(\u001b[0m\u001b[0mpath\u001b[0m\u001b[0;34m,\u001b[0m \u001b[0;34m*\u001b[0m\u001b[0margs\u001b[0m\u001b[0;34m)\u001b[0m\u001b[0;34m:\u001b[0m\u001b[0;34m\u001b[0m\u001b[0;34m\u001b[0m\u001b[0m\n\u001b[1;32m      7\u001b[0m     \u001b[0;32mwith\u001b[0m \u001b[0mh5py\u001b[0m\u001b[0;34m.\u001b[0m\u001b[0mFile\u001b[0m\u001b[0;34m(\u001b[0m\u001b[0mpath\u001b[0m\u001b[0;34m,\u001b[0m \u001b[0;34m\"r\"\u001b[0m\u001b[0;34m)\u001b[0m \u001b[0;32mas\u001b[0m \u001b[0mf\u001b[0m\u001b[0;34m:\u001b[0m\u001b[0;34m\u001b[0m\u001b[0;34m\u001b[0m\u001b[0m\n\u001b[0;32m----> 8\u001b[0;31m         \u001b[0;32mreturn\u001b[0m \u001b[0mtuple\u001b[0m\u001b[0;34m(\u001b[0m\u001b[0mf\u001b[0m\u001b[0;34m[\u001b[0m\u001b[0mx\u001b[0m\u001b[0;34m]\u001b[0m\u001b[0;34m[\u001b[0m\u001b[0;34m...\u001b[0m\u001b[0;34m]\u001b[0m \u001b[0;32mfor\u001b[0m \u001b[0mx\u001b[0m \u001b[0;32min\u001b[0m \u001b[0margs\u001b[0m\u001b[0;34m)\u001b[0m\u001b[0;34m\u001b[0m\u001b[0;34m\u001b[0m\u001b[0m\n\u001b[0m\u001b[1;32m      9\u001b[0m \u001b[0;34m\u001b[0m\u001b[0m\n\u001b[1;32m     10\u001b[0m \u001b[0;34m\u001b[0m\u001b[0m\n",
      "\u001b[0;32mh5py/_objects.pyx\u001b[0m in \u001b[0;36mh5py._objects.with_phil.wrapper\u001b[0;34m()\u001b[0m\n",
      "\u001b[0;32mh5py/_objects.pyx\u001b[0m in \u001b[0;36mh5py._objects.with_phil.wrapper\u001b[0;34m()\u001b[0m\n",
      "\u001b[0;32m~/anaconda3/lib/python3.7/site-packages/h5py/_hl/files.py\u001b[0m in \u001b[0;36m__exit__\u001b[0;34m(self, *args)\u001b[0m\n\u001b[1;32m    358\u001b[0m     \u001b[0;32mdef\u001b[0m \u001b[0m__exit__\u001b[0m\u001b[0;34m(\u001b[0m\u001b[0mself\u001b[0m\u001b[0;34m,\u001b[0m \u001b[0;34m*\u001b[0m\u001b[0margs\u001b[0m\u001b[0;34m)\u001b[0m\u001b[0;34m:\u001b[0m\u001b[0;34m\u001b[0m\u001b[0;34m\u001b[0m\u001b[0m\n\u001b[1;32m    359\u001b[0m         \u001b[0;32mif\u001b[0m \u001b[0mself\u001b[0m\u001b[0;34m.\u001b[0m\u001b[0mid\u001b[0m\u001b[0;34m:\u001b[0m\u001b[0;34m\u001b[0m\u001b[0;34m\u001b[0m\u001b[0m\n\u001b[0;32m--> 360\u001b[0;31m             \u001b[0mself\u001b[0m\u001b[0;34m.\u001b[0m\u001b[0mclose\u001b[0m\u001b[0;34m(\u001b[0m\u001b[0;34m)\u001b[0m\u001b[0;34m\u001b[0m\u001b[0;34m\u001b[0m\u001b[0m\n\u001b[0m\u001b[1;32m    361\u001b[0m \u001b[0;34m\u001b[0m\u001b[0m\n\u001b[1;32m    362\u001b[0m     \u001b[0;34m@\u001b[0m\u001b[0mwith_phil\u001b[0m\u001b[0;34m\u001b[0m\u001b[0;34m\u001b[0m\u001b[0m\n",
      "\u001b[0;32m~/anaconda3/lib/python3.7/site-packages/h5py/_hl/files.py\u001b[0m in \u001b[0;36mclose\u001b[0;34m(self)\u001b[0m\n\u001b[1;32m    340\u001b[0m                 \u001b[0;32mfor\u001b[0m \u001b[0mid_\u001b[0m \u001b[0;32min\u001b[0m \u001b[0mfile_list\u001b[0m\u001b[0;34m:\u001b[0m\u001b[0;34m\u001b[0m\u001b[0;34m\u001b[0m\u001b[0m\n\u001b[1;32m    341\u001b[0m                     \u001b[0;32mwhile\u001b[0m \u001b[0mid_\u001b[0m\u001b[0;34m.\u001b[0m\u001b[0mvalid\u001b[0m\u001b[0;34m:\u001b[0m\u001b[0;34m\u001b[0m\u001b[0;34m\u001b[0m\u001b[0m\n\u001b[0;32m--> 342\u001b[0;31m                         \u001b[0mh5i\u001b[0m\u001b[0;34m.\u001b[0m\u001b[0mdec_ref\u001b[0m\u001b[0;34m(\u001b[0m\u001b[0mid_\u001b[0m\u001b[0;34m)\u001b[0m\u001b[0;34m\u001b[0m\u001b[0;34m\u001b[0m\u001b[0m\n\u001b[0m\u001b[1;32m    343\u001b[0m \u001b[0;34m\u001b[0m\u001b[0m\n\u001b[1;32m    344\u001b[0m                 \u001b[0mself\u001b[0m\u001b[0;34m.\u001b[0m\u001b[0mid\u001b[0m\u001b[0;34m.\u001b[0m\u001b[0mclose\u001b[0m\u001b[0;34m(\u001b[0m\u001b[0;34m)\u001b[0m\u001b[0;34m\u001b[0m\u001b[0;34m\u001b[0m\u001b[0m\n",
      "\u001b[0;31mKeyboardInterrupt\u001b[0m: "
     ]
    }
   ],
   "source": [
    "density_collect = np.full((nT,nU,nF,nmu),np.nan,dtype=complex)\n",
    "densityerr_collect = np.full((nT,nU,nF,nmu),np.nan,dtype=float)\n",
    "sign_collect = np.full((nT,nU,nF,nmu),np.nan,dtype=complex)\n",
    "signerr_collect = np.full((nT,nU,nF,nmu),np.nan,dtype=float)\n",
    "for k in range(nF):\n",
    "    nflux = nflux_list[k]\n",
    "    for j in range(nU):\n",
    "        Us = Us_list[j]\n",
    "        for i in range(nT):\n",
    "            betas=betas_list[i]\n",
    "            for m in range(nmu):\n",
    "                mu = mu_arr[m]\n",
    "                dpath = pathroot+f\"{Nx}x{Ny}_tp{tp}_nflux{nflux}/n{nt}/beta{betas}_U{Us}/mu{mu:.3f}/\"\n",
    "                print(dpath)\n",
    "                try: \n",
    "                    dm,de = da.full_density(dpath)\n",
    "                    sm,se = da.full_sign(dpath,uneqlt=False)\n",
    "                except IndexError as e:\n",
    "                    print(e)\n",
    "                    continue\n",
    "                density_collect[i,j,k,m] = dm\n",
    "                densityerr_collect[i,j,k,m] = de;\n",
    "                sign_collect[i,j,k,m] = sm;\n",
    "                signerr_collect[i,j,k,m] = se;"
   ]
  },
  {
   "cell_type": "code",
   "execution_count": null,
   "metadata": {},
   "outputs": [],
   "source": [
    "np.save(resultroot+f\"Nx{Nx}_Ny{Ny}_tp{tp}_mu.npy\",mu_arr)\n",
    "np.save(resultroot+f\"Nx{Nx}_Ny{Ny}_tp{tp}_density.npy\",density_collect)\n",
    "np.save(resultroot+f\"Nx{Nx}_Ny{Ny}_tp{tp}_densityerr.npy\",densityerr_collect)\n",
    "np.save(resultroot+f\"Nx{Nx}_Ny{Ny}_tp{tp}_sign.npy\",sign_collect)\n",
    "np.save(resultroot+f\"Nx{Nx}_Ny{Ny}_tp{tp}_signerr.npy\",signerr_collect)"
   ]
  },
  {
   "cell_type": "code",
   "execution_count": null,
   "metadata": {},
   "outputs": [],
   "source": [
    "mu_ld = np.load(resultroot+f\"Nx{Nx}_Ny{Ny}_tp{tp}_mu.npy\")\n",
    "density_ld = np.load(resultroot+f\"Nx{Nx}_Ny{Ny}_tp{tp}_density.npy\")\n",
    "densityerr_ld = np.load(resultroot+f\"Nx{Nx}_Ny{Ny}_tp{tp}_densityerr.npy\")\n",
    "sign_ld = np.load(resultroot+f\"Nx{Nx}_Ny{Ny}_tp{tp}_sign.npy\")\n",
    "signerr_ld = np.load(resultroot+f\"Nx{Nx}_Ny{Ny}_tp{tp}_signerr.npy\")\n",
    "print(f\"some data is saved in directory {resultroot}? {not np.all(np.isnan(density_ld))}\")\n",
    "print(f\"density_ld.shape = {density_ld.shape}\")"
   ]
  },
  {
   "cell_type": "code",
   "execution_count": null,
   "metadata": {},
   "outputs": [],
   "source": []
  }
 ],
 "metadata": {
  "kernelspec": {
   "display_name": "Python 3",
   "language": "python",
   "name": "python3"
  },
  "language_info": {
   "codemirror_mode": {
    "name": "ipython",
    "version": 3
   },
   "file_extension": ".py",
   "mimetype": "text/x-python",
   "name": "python",
   "nbconvert_exporter": "python",
   "pygments_lexer": "ipython3",
   "version": "3.7.3"
  }
 },
 "nbformat": 4,
 "nbformat_minor": 2
}
