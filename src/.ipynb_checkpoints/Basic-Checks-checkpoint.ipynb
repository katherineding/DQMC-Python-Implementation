{
 "cells": [
  {
   "cell_type": "code",
   "execution_count": 1,
   "metadata": {},
   "outputs": [],
   "source": [
    "import numpy as np\n",
    "from scipy import linalg as la\n",
    "import matplotlib.pyplot as plt\n",
    "np.set_printoptions(precision=3)\n",
    "from itertools import product\n",
    "\n",
    "import sys\n",
    "sys.path.insert(0,\"/home/katherine/Documents/GradWork/Devereaux/DQMC-Sync-SHERLOCK/edwin/dqmc/util\")\n",
    "import util #Edwin's util file\n",
    "import data_analysis as da\n",
    "%load_ext autoreload"
   ]
  },
  {
   "cell_type": "code",
   "execution_count": 2,
   "metadata": {},
   "outputs": [],
   "source": [
    "plotroot=\"checkplots/\""
   ]
  },
  {
   "cell_type": "code",
   "execution_count": 3,
   "metadata": {},
   "outputs": [],
   "source": [
    "%autoreload 2"
   ]
  },
  {
   "cell_type": "code",
   "execution_count": null,
   "metadata": {},
   "outputs": [],
   "source": []
  },
  {
   "cell_type": "code",
   "execution_count": null,
   "metadata": {},
   "outputs": [],
   "source": []
  },
  {
   "cell_type": "code",
   "execution_count": null,
   "metadata": {},
   "outputs": [],
   "source": []
  },
  {
   "cell_type": "markdown",
   "metadata": {},
   "source": [
    "# Energy vs n_sweep - incomplete - not enabled in master"
   ]
  },
  {
   "cell_type": "code",
   "execution_count": 4,
   "metadata": {},
   "outputs": [],
   "source": [
    "def get_energy(path):\n",
    "    Nx,Ny,mu,U = util.load_firstfile(path,\"metadata/Nx\",\"metadata/Ny\",\"metadata/mu\",\"metadata/U\")\n",
    "    ns, s, d, g00, double_occ = util.load(path,\"meas_eqlt/n_sample\", \"meas_eqlt/sign\",\"meas_eqlt/density\",\\\n",
    "                                        \"meas_eqlt/g00\", \"meas_eqlt/double_occ\")\n",
    "    g00 = np.reshape(g00,(-1,Nx,Ny),order='F')\n",
    "\n",
    "    #if none complete, return 0\n",
    "    if da.info(path) != 0: \n",
    "        return np.array([0,0])\n",
    "    \n",
    "    #some bins are complete, work with completed ones\n",
    "    mask = ns == ns.max(); nbin = mask.sum()\n",
    "    ns, s, d, g00, double_occ = ns[mask], s[mask], d[mask], g00[mask], double_occ[mask]\n",
    "\n",
    "    #checked against https://arxiv.org/abs/cond-mat/9612132v2 FIG.2\n",
    "    #energy zero point differ for U != 0, but variation looks right\n",
    "    t1 = 2*(g00[:,0,1]+g00[:,1,0]+g00[:,0,Ny-1]+g00[:,Nx-1,0]) \n",
    "    \n",
    "    t2 = -mu*d\n",
    "\n",
    "    t3 = U*(double_occ-0.5*d+0.25)\n",
    "    \n",
    "    #check real part dominate\n",
    "    f= lambda s, o1, o2, o3: ((o1.T+o2.T+o3.T)/s.T).T\n",
    "    energy = util.jackknife(s,t1,np.squeeze(t2),np.squeeze(t3),f=f) \n",
    "    assert la.norm(energy.imag)/la.norm(energy.real) < 1e-3, \\\n",
    "        f\"imag/real norm = {la.norm(energy.imag)/la.norm(energy.real)} is too large\"\n",
    "    \n",
    "    return energy"
   ]
  },
  {
   "cell_type": "code",
   "execution_count": 5,
   "metadata": {},
   "outputs": [
    {
     "data": {
      "text/plain": [
       "array([-1.526e+00-1.817e-18j,  1.865e-04-1.353e-18j])"
      ]
     },
     "execution_count": 5,
     "metadata": {},
     "output_type": "execute_result"
    }
   ],
   "source": [
    "data_root = \"../../Data-DQMC/B_sweep/nflux1_U1/\"\n",
    "get_energy(data_root)"
   ]
  },
  {
   "cell_type": "markdown",
   "metadata": {},
   "source": [
    "# Aceptance ratio vs n_sweep - incomplete - not enabled in master"
   ]
  },
  {
   "cell_type": "code",
   "execution_count": 6,
   "metadata": {},
   "outputs": [],
   "source": [
    "def get_accept_ratio(path):\n",
    "    #load strictly necessary data\n",
    "    N,L,n_sweep = util.load_firstfile(path,\"params/N\",\"params/L\",\"params/n_sweep\")\n",
    "    ns,ar = util.load(path,\"meas_eqlt/n_sample\",\"state/accept_ratio\")\n",
    "        \n",
    "    #if none complete, return 0\n",
    "    if da.info(path) != 0: \n",
    "        return np.array([0,0])\n",
    "    \n",
    "    #some bins are complete, work with completed ones\n",
    "    mask = ns == ns.max(); nbin = mask.sum()\n",
    "    ns, ar = ns[mask], ar[mask]\n",
    "\n",
    "    tmp = ar/(N*L*n_sweep)\n",
    "    print(f\"accept ratio = {tmp}\")\n",
    "    return np.array([np.mean(tmp),np.std(tmp)])"
   ]
  },
  {
   "cell_type": "code",
   "execution_count": 7,
   "metadata": {
    "scrolled": true
   },
   "outputs": [
    {
     "name": "stdout",
     "output_type": "stream",
     "text": [
      "accept ratio = [0.918 0.918 0.919]\n"
     ]
    },
    {
     "data": {
      "text/plain": [
       "array([9.184e-01, 2.008e-04])"
      ]
     },
     "execution_count": 7,
     "metadata": {},
     "output_type": "execute_result"
    }
   ],
   "source": [
    "data_root = \"../../Data-DQMC/B_sweep/nflux1_U1/\"\n",
    "get_accept_ratio(data_root)"
   ]
  },
  {
   "cell_type": "code",
   "execution_count": null,
   "metadata": {},
   "outputs": [],
   "source": []
  },
  {
   "cell_type": "code",
   "execution_count": null,
   "metadata": {},
   "outputs": [],
   "source": []
  },
  {
   "cell_type": "code",
   "execution_count": null,
   "metadata": {},
   "outputs": [],
   "source": []
  },
  {
   "cell_type": "code",
   "execution_count": null,
   "metadata": {},
   "outputs": [],
   "source": []
  },
  {
   "cell_type": "code",
   "execution_count": null,
   "metadata": {},
   "outputs": [],
   "source": []
  },
  {
   "cell_type": "code",
   "execution_count": null,
   "metadata": {},
   "outputs": [],
   "source": []
  },
  {
   "cell_type": "code",
   "execution_count": 8,
   "metadata": {},
   "outputs": [],
   "source": [
    "data_root_1= \"../../Data-DQMC/BT_U_sweep_lowtemp\"\n",
    "data_root_2= \"../../Data-DQMC/BT_U_sweep_hightemp\"\n",
    "#extra U\n",
    "data_root_3 = \"../../Data-DQMC/BTextraU_sweep_lowtemp\"\n",
    "data_root_4 = \"../../Data-DQMC/BTextraU_sweep_hightemp\"\n",
    "#extra nflux, optional\n",
    "data_root_5 = \"../../Data-DQMC/large_BTU_sweep_lowtemp\"\n",
    "data_root_6 = \"../../Data-DQMC/large_BTU_sweep_hightemp\""
   ]
  },
  {
   "cell_type": "markdown",
   "metadata": {},
   "source": [
    "# Local moment m_z^2 vs B field strength, U, and temperature, 8x8, half filling"
   ]
  },
  {
   "cell_type": "code",
   "execution_count": 9,
   "metadata": {},
   "outputs": [],
   "source": [
    "def get_mz(path):\n",
    "    #load necessary data\n",
    "    ns, s, d, double_occ  = \\\n",
    "    util.load(path,\"meas_eqlt/n_sample\", \"meas_eqlt/sign\",'meas_eqlt/density', \"meas_eqlt/double_occ\")\n",
    "    \n",
    "    #if none complete, return 0\n",
    "    if da.info(path) != 0: \n",
    "        return np.array([np.nan,np.nan])\n",
    "    #some bins are complete, work with completed ones\n",
    "    mask = ns == ns.max(); nbin = mask.sum()\n",
    "    ns,s, d, double_occ = ns[mask],s[mask], d[mask],double_occ[mask] \n",
    "    \n",
    "    #check real part dominate\n",
    "    f=lambda s, o1, o2: ((o1.T-2*o2.T)/s.T).T\n",
    "    #jackknife is fidgety about matrix shapes\n",
    "    mz = util.jackknife(s,np.squeeze(d),np.squeeze(double_occ),f = f)\n",
    "    assert la.norm(mz.imag)/la.norm(mz.real) < 1e-2, \\\n",
    "        f\"imag/real norm = {la.norm(mz.imag)/la.norm(mz.real)} is too large\"\n",
    "    \n",
    "    return mz.real"
   ]
  },
  {
   "cell_type": "code",
   "execution_count": 10,
   "metadata": {
    "scrolled": true
   },
   "outputs": [
    {
     "name": "stdout",
     "output_type": "stream",
     "text": [
      "nflux list [0, 1, 2, 4, 8, 16, 32]\n",
      "U list [0, 1, 4, 12, 0.5, 2, 6, 8, 9, 10]\n",
      "L list [5, 10, 20, 40, 80, 160, 2, 4, 8, 16, 32, 64]\n",
      "../../Data-DQMC/real_TextraU_sweep_lowtemp/nflux0_L5_U2/ no data\n",
      "../../Data-DQMC/real_TextraU_sweep_lowtemp/nflux0_L5_U6/ no data\n",
      "../../Data-DQMC/real_TextraU_sweep_lowtemp/nflux0_L5_U8/ no data\n",
      "../../Data-DQMC/real_TextraU_sweep_lowtemp/nflux0_L5_U9/ no data\n",
      "../../Data-DQMC/real_TextraU_sweep_lowtemp/nflux0_L5_U10/ no data\n",
      "../../Data-DQMC/real_TextraU_sweep_lowtemp/nflux0_L10_U2/ no data\n",
      "../../Data-DQMC/real_TextraU_sweep_lowtemp/nflux0_L10_U6/ no data\n",
      "../../Data-DQMC/real_TextraU_sweep_lowtemp/nflux0_L10_U8/ no data\n",
      "../../Data-DQMC/real_TextraU_sweep_lowtemp/nflux0_L10_U9/ no data\n",
      "../../Data-DQMC/real_TextraU_sweep_lowtemp/nflux0_L10_U10/ no data\n",
      "../../Data-DQMC/real_TextraU_sweep_lowtemp/nflux0_L20_U2/ no data\n",
      "../../Data-DQMC/real_TextraU_sweep_lowtemp/nflux0_L20_U6/ no data\n",
      "../../Data-DQMC/real_TextraU_sweep_lowtemp/nflux0_L20_U8/ no data\n",
      "../../Data-DQMC/real_TextraU_sweep_lowtemp/nflux0_L20_U9/ no data\n",
      "../../Data-DQMC/real_TextraU_sweep_lowtemp/nflux0_L20_U10/ no data\n",
      "../../Data-DQMC/real_TextraU_sweep_lowtemp/nflux0_L40_U2/ no data\n",
      "../../Data-DQMC/real_TextraU_sweep_lowtemp/nflux0_L40_U6/ no data\n",
      "../../Data-DQMC/real_TextraU_sweep_lowtemp/nflux0_L40_U8/ no data\n",
      "../../Data-DQMC/real_TextraU_sweep_lowtemp/nflux0_L40_U9/ no data\n",
      "../../Data-DQMC/real_TextraU_sweep_lowtemp/nflux0_L40_U10/ no data\n",
      "../../Data-DQMC/real_TextraU_sweep_lowtemp/nflux0_L80_U2/ no data\n",
      "../../Data-DQMC/real_TextraU_sweep_lowtemp/nflux0_L80_U6/ no data\n",
      "../../Data-DQMC/real_TextraU_sweep_lowtemp/nflux0_L80_U8/ no data\n",
      "../../Data-DQMC/real_TextraU_sweep_lowtemp/nflux0_L80_U9/ no data\n",
      "../../Data-DQMC/real_TextraU_sweep_lowtemp/nflux0_L80_U10/ no data\n",
      "../../Data-DQMC/real_TextraU_sweep_lowtemp/nflux0_L160_U2/ no data\n",
      "../../Data-DQMC/real_TextraU_sweep_lowtemp/nflux0_L160_U6/ no data\n",
      "../../Data-DQMC/real_TextraU_sweep_lowtemp/nflux0_L160_U8/ no data\n",
      "../../Data-DQMC/real_TextraU_sweep_lowtemp/nflux0_L160_U9/ no data\n",
      "../../Data-DQMC/real_TextraU_sweep_lowtemp/nflux0_L160_U10/ no data\n",
      "../../Data-DQMC/real_TextraU_sweep_hightemp/nflux0_L2_U2/ no data\n",
      "../../Data-DQMC/real_TextraU_sweep_hightemp/nflux0_L2_U6/ no data\n",
      "../../Data-DQMC/real_TextraU_sweep_hightemp/nflux0_L2_U8/ no data\n",
      "../../Data-DQMC/real_TextraU_sweep_hightemp/nflux0_L2_U9/ no data\n",
      "../../Data-DQMC/real_TextraU_sweep_hightemp/nflux0_L2_U10/ no data\n",
      "../../Data-DQMC/real_TextraU_sweep_hightemp/nflux0_L4_U2/ no data\n",
      "../../Data-DQMC/real_TextraU_sweep_hightemp/nflux0_L4_U6/ no data\n",
      "../../Data-DQMC/real_TextraU_sweep_hightemp/nflux0_L4_U8/ no data\n",
      "../../Data-DQMC/real_TextraU_sweep_hightemp/nflux0_L4_U9/ no data\n",
      "../../Data-DQMC/real_TextraU_sweep_hightemp/nflux0_L4_U10/ no data\n",
      "../../Data-DQMC/real_TextraU_sweep_hightemp/nflux0_L8_U2/ no data\n",
      "../../Data-DQMC/real_TextraU_sweep_hightemp/nflux0_L8_U6/ no data\n",
      "../../Data-DQMC/real_TextraU_sweep_hightemp/nflux0_L8_U8/ no data\n",
      "../../Data-DQMC/real_TextraU_sweep_hightemp/nflux0_L8_U9/ no data\n",
      "../../Data-DQMC/real_TextraU_sweep_hightemp/nflux0_L8_U10/ no data\n",
      "../../Data-DQMC/real_TextraU_sweep_hightemp/nflux0_L16_U2/ no data\n",
      "../../Data-DQMC/real_TextraU_sweep_hightemp/nflux0_L16_U6/ no data\n",
      "../../Data-DQMC/real_TextraU_sweep_hightemp/nflux0_L16_U8/ no data\n",
      "../../Data-DQMC/real_TextraU_sweep_hightemp/nflux0_L16_U9/ no data\n",
      "../../Data-DQMC/real_TextraU_sweep_hightemp/nflux0_L16_U10/ no data\n",
      "../../Data-DQMC/real_TextraU_sweep_hightemp/nflux0_L32_U2/ no data\n",
      "../../Data-DQMC/real_TextraU_sweep_hightemp/nflux0_L32_U6/ no data\n",
      "../../Data-DQMC/real_TextraU_sweep_hightemp/nflux0_L32_U8/ no data\n",
      "../../Data-DQMC/real_TextraU_sweep_hightemp/nflux0_L32_U9/ no data\n",
      "../../Data-DQMC/real_TextraU_sweep_hightemp/nflux0_L32_U10/ no data\n",
      "../../Data-DQMC/real_TextraU_sweep_hightemp/nflux0_L64_U2/ no data\n",
      "../../Data-DQMC/real_TextraU_sweep_hightemp/nflux0_L64_U6/ no data\n",
      "../../Data-DQMC/real_TextraU_sweep_hightemp/nflux0_L64_U8/ no data\n",
      "../../Data-DQMC/real_TextraU_sweep_hightemp/nflux0_L64_U9/ no data\n",
      "../../Data-DQMC/real_TextraU_sweep_hightemp/nflux0_L64_U10/ no data\n"
     ]
    }
   ],
   "source": [
    "L_arr_1, L_arr_2, U_arr_1, U_arr_2, nflux_arr_1,nflux_arr_2= \\\n",
    "    da.prep_data(data_root_1,data_root_2,data_root_3,data_root_4);\n",
    "\n",
    "L_arr = L_arr_1 + L_arr_2 ; N_L = len(L_arr); N_L1 = len(L_arr_1);N_L2 = len(L_arr_2)\n",
    "U_arr = U_arr_1 + U_arr_2 ; N_U = len(U_arr); N_U1 = len(U_arr_1);N_U2 = len(U_arr_2)\n",
    "beta_arr = np.concatenate((np.array(L_arr_1)*0.1,np.array(L_arr_2)*0.005))\n",
    "sorted_ = np.argsort(beta_arr)\n",
    "#add back real case\n",
    "nflux_arr_1.insert(0,0); #count no flux as part of arr 1\n",
    "nflux_arr = nflux_arr_1 + nflux_arr_2 ; \n",
    "N_nflux=len(nflux_arr); N_nflux_1 = len(nflux_arr_1);N_nflux_2 = len(nflux_arr_2);\n",
    "\n",
    "print(\"nflux list\",nflux_arr)\n",
    "print(\"U list\",U_arr)\n",
    "print(\"L list\",L_arr)\n",
    "\n",
    "Mz_arr = np.zeros((N_L,N_nflux,N_U),dtype=float)\n",
    "Mz_err_arr = np.zeros((N_L,N_nflux,N_U),dtype=float)\n",
    "\n",
    "for i in range(N_L):\n",
    "    for j in range(N_nflux):\n",
    "        for k in range(N_U):\n",
    "            L = L_arr[i]\n",
    "            nflux = nflux_arr[j]\n",
    "            U = U_arr[k]\n",
    "            if j < N_nflux_1:\n",
    "                if k < N_U1 and i < N_L1:\n",
    "                    data_path = f\"{data_root_1}/nflux{nflux}_L{L}_U{U}/\"\n",
    "                elif k < N_U1 and i >= N_L1:\n",
    "                    data_path = f\"{data_root_2}/nflux{nflux}_L{L}_U{U}/\"\n",
    "                elif k > N_U1 and i < N_L1:\n",
    "                    data_path = f\"{data_root_3}/nflux{nflux}_L{L}_U{U}/\"\n",
    "                elif k > N_U1 and i >= N_L1:\n",
    "                    data_path = f\"{data_root_4}/nflux{nflux}_L{L}_U{U}/\"\n",
    "                if j == 0:\n",
    "                    data_path = data_path.replace(\"B\",\"real_\")\n",
    "            #extra nflux values, if requested for check periodicity\n",
    "            else:\n",
    "                if i < N_L1:\n",
    "                    data_path = f\"{data_root_5}/nflux{nflux}_L{L}_U{U}/\"\n",
    "                else:\n",
    "                    data_path = f\"{data_root_6}/nflux{nflux}_L{L}_U{U}/\"\n",
    "            #print(data_path)\n",
    "            mz_jk = get_mz(data_path)\n",
    "            #print(mz_jk)\n",
    "            Mz_arr[i,j,k] = mz_jk[0]\n",
    "            Mz_err_arr[i,j,k] = mz_jk[1]"
   ]
  },
  {
   "cell_type": "code",
   "execution_count": 11,
   "metadata": {},
   "outputs": [],
   "source": [
    "#save plots\n",
    "da.plot_series(plotroot,\"LocalMoment\",U_arr,nflux_arr,beta_arr,sorted_,Mz_arr,Mz_err_arr)"
   ]
  },
  {
   "cell_type": "markdown",
   "metadata": {},
   "source": [
    "# CDW (nn) and SDW(zz) correlator vs B field strength, U, and temperature, 8x8, half filling"
   ]
  },
  {
   "cell_type": "code",
   "execution_count": 12,
   "metadata": {},
   "outputs": [],
   "source": [
    "def get_struct_factors(path):\n",
    "    Nx, Ny = util.load_firstfile(path, \"metadata/Nx\", \"metadata/Ny\")\n",
    "    ns, s , zz, nn = \\\n",
    "        util.load(path,\"meas_eqlt/n_sample\", \"meas_eqlt/sign\", 'meas_eqlt/zz','meas_eqlt/nn')\n",
    "    zz = np.reshape(zz,(-1,Nx,Ny),order='F')\n",
    "    nn = np.reshape(nn,(-1,Nx,Ny),order='F')\n",
    "    \n",
    "    #if none complete, return 0\n",
    "    if da.info(path) != 0: \n",
    "        return np.array([np.nan,np.nan]),np.array([np.nan,np.nan])\n",
    "    #some bins are complete, work with completed ones\n",
    "    mask = ns == ns.max(); nbin = mask.sum()\n",
    "    ns, s, zz,nn = ns[mask],s[mask],zz[mask],nn[mask]\n",
    "    \n",
    "    \n",
    "    kpi = np.array([np.pi,np.pi]) #wave vector\n",
    "    phasemat = np.zeros((Nx,Ny),dtype=float)\n",
    "    for loc in product(range(Nx),range(Ny)):\n",
    "        phase = np.dot(kpi,np.array(loc))\n",
    "        phasemat[loc[0],loc[1]] = phase\n",
    "        \n",
    "\n",
    "    #print(np.exp(1j*phasemat).real)\n",
    "    cdw = np.sum(np.exp(1j*phasemat).real*nn,axis = (1,2))\n",
    "    sdw = np.sum(np.exp(1j*phasemat).real*zz,axis = (1,2))\n",
    "    \n",
    "    cdw_jk = util.jackknife(s,cdw)\n",
    "    sdw_jk = util.jackknife(s,sdw)\n",
    "    #print(sdw_jk.shape)\n",
    "    \n",
    "    return cdw_jk, sdw_jk"
   ]
  },
  {
   "cell_type": "code",
   "execution_count": 13,
   "metadata": {},
   "outputs": [
    {
     "name": "stdout",
     "output_type": "stream",
     "text": [
      "nflux list [0, 1, 2, 4, 8, 16, 32]\n",
      "U list [0, 1, 4, 12, 0.5, 2, 6, 8, 9, 10]\n",
      "L list [5, 10, 20, 40, 80, 160, 2, 4, 8, 16, 32, 64]\n",
      "../../Data-DQMC/real_TextraU_sweep_lowtemp/nflux0_L5_U2/ no data\n",
      "../../Data-DQMC/real_TextraU_sweep_lowtemp/nflux0_L5_U6/ no data\n",
      "../../Data-DQMC/real_TextraU_sweep_lowtemp/nflux0_L5_U8/ no data\n",
      "../../Data-DQMC/real_TextraU_sweep_lowtemp/nflux0_L5_U9/ no data\n",
      "../../Data-DQMC/real_TextraU_sweep_lowtemp/nflux0_L5_U10/ no data\n",
      "../../Data-DQMC/real_TextraU_sweep_lowtemp/nflux0_L10_U2/ no data\n",
      "../../Data-DQMC/real_TextraU_sweep_lowtemp/nflux0_L10_U6/ no data\n",
      "../../Data-DQMC/real_TextraU_sweep_lowtemp/nflux0_L10_U8/ no data\n",
      "../../Data-DQMC/real_TextraU_sweep_lowtemp/nflux0_L10_U9/ no data\n",
      "../../Data-DQMC/real_TextraU_sweep_lowtemp/nflux0_L10_U10/ no data\n",
      "../../Data-DQMC/real_TextraU_sweep_lowtemp/nflux0_L20_U2/ no data\n",
      "../../Data-DQMC/real_TextraU_sweep_lowtemp/nflux0_L20_U6/ no data\n",
      "../../Data-DQMC/real_TextraU_sweep_lowtemp/nflux0_L20_U8/ no data\n",
      "../../Data-DQMC/real_TextraU_sweep_lowtemp/nflux0_L20_U9/ no data\n",
      "../../Data-DQMC/real_TextraU_sweep_lowtemp/nflux0_L20_U10/ no data\n",
      "../../Data-DQMC/real_TextraU_sweep_lowtemp/nflux0_L40_U2/ no data\n",
      "../../Data-DQMC/real_TextraU_sweep_lowtemp/nflux0_L40_U6/ no data\n",
      "../../Data-DQMC/real_TextraU_sweep_lowtemp/nflux0_L40_U8/ no data\n",
      "../../Data-DQMC/real_TextraU_sweep_lowtemp/nflux0_L40_U9/ no data\n",
      "../../Data-DQMC/real_TextraU_sweep_lowtemp/nflux0_L40_U10/ no data\n",
      "../../Data-DQMC/real_TextraU_sweep_lowtemp/nflux0_L80_U2/ no data\n",
      "../../Data-DQMC/real_TextraU_sweep_lowtemp/nflux0_L80_U6/ no data\n",
      "../../Data-DQMC/real_TextraU_sweep_lowtemp/nflux0_L80_U8/ no data\n",
      "../../Data-DQMC/real_TextraU_sweep_lowtemp/nflux0_L80_U9/ no data\n",
      "../../Data-DQMC/real_TextraU_sweep_lowtemp/nflux0_L80_U10/ no data\n",
      "../../Data-DQMC/real_TextraU_sweep_lowtemp/nflux0_L160_U2/ no data\n",
      "../../Data-DQMC/real_TextraU_sweep_lowtemp/nflux0_L160_U6/ no data\n",
      "../../Data-DQMC/real_TextraU_sweep_lowtemp/nflux0_L160_U8/ no data\n",
      "../../Data-DQMC/real_TextraU_sweep_lowtemp/nflux0_L160_U9/ no data\n",
      "../../Data-DQMC/real_TextraU_sweep_lowtemp/nflux0_L160_U10/ no data\n",
      "../../Data-DQMC/real_TextraU_sweep_hightemp/nflux0_L2_U2/ no data\n",
      "../../Data-DQMC/real_TextraU_sweep_hightemp/nflux0_L2_U6/ no data\n",
      "../../Data-DQMC/real_TextraU_sweep_hightemp/nflux0_L2_U8/ no data\n",
      "../../Data-DQMC/real_TextraU_sweep_hightemp/nflux0_L2_U9/ no data\n",
      "../../Data-DQMC/real_TextraU_sweep_hightemp/nflux0_L2_U10/ no data\n",
      "../../Data-DQMC/real_TextraU_sweep_hightemp/nflux0_L4_U2/ no data\n",
      "../../Data-DQMC/real_TextraU_sweep_hightemp/nflux0_L4_U6/ no data\n",
      "../../Data-DQMC/real_TextraU_sweep_hightemp/nflux0_L4_U8/ no data\n",
      "../../Data-DQMC/real_TextraU_sweep_hightemp/nflux0_L4_U9/ no data\n",
      "../../Data-DQMC/real_TextraU_sweep_hightemp/nflux0_L4_U10/ no data\n",
      "../../Data-DQMC/real_TextraU_sweep_hightemp/nflux0_L8_U2/ no data\n",
      "../../Data-DQMC/real_TextraU_sweep_hightemp/nflux0_L8_U6/ no data\n",
      "../../Data-DQMC/real_TextraU_sweep_hightemp/nflux0_L8_U8/ no data\n",
      "../../Data-DQMC/real_TextraU_sweep_hightemp/nflux0_L8_U9/ no data\n",
      "../../Data-DQMC/real_TextraU_sweep_hightemp/nflux0_L8_U10/ no data\n",
      "../../Data-DQMC/real_TextraU_sweep_hightemp/nflux0_L16_U2/ no data\n",
      "../../Data-DQMC/real_TextraU_sweep_hightemp/nflux0_L16_U6/ no data\n",
      "../../Data-DQMC/real_TextraU_sweep_hightemp/nflux0_L16_U8/ no data\n",
      "../../Data-DQMC/real_TextraU_sweep_hightemp/nflux0_L16_U9/ no data\n",
      "../../Data-DQMC/real_TextraU_sweep_hightemp/nflux0_L16_U10/ no data\n",
      "../../Data-DQMC/real_TextraU_sweep_hightemp/nflux0_L32_U2/ no data\n",
      "../../Data-DQMC/real_TextraU_sweep_hightemp/nflux0_L32_U6/ no data\n",
      "../../Data-DQMC/real_TextraU_sweep_hightemp/nflux0_L32_U8/ no data\n",
      "../../Data-DQMC/real_TextraU_sweep_hightemp/nflux0_L32_U9/ no data\n",
      "../../Data-DQMC/real_TextraU_sweep_hightemp/nflux0_L32_U10/ no data\n",
      "../../Data-DQMC/real_TextraU_sweep_hightemp/nflux0_L64_U2/ no data\n",
      "../../Data-DQMC/real_TextraU_sweep_hightemp/nflux0_L64_U6/ no data\n",
      "../../Data-DQMC/real_TextraU_sweep_hightemp/nflux0_L64_U8/ no data\n",
      "../../Data-DQMC/real_TextraU_sweep_hightemp/nflux0_L64_U9/ no data\n",
      "../../Data-DQMC/real_TextraU_sweep_hightemp/nflux0_L64_U10/ no data\n"
     ]
    }
   ],
   "source": [
    "L_arr_1, L_arr_2, U_arr_1, U_arr_2, nflux_arr_1,nflux_arr_2= \\\n",
    "    da.prep_data(data_root_1,data_root_2,data_root_3,data_root_4);\n",
    "\n",
    "            \n",
    "L_arr = L_arr_1 + L_arr_2 ; N_L = len(L_arr); N_L1 = len(L_arr_1);N_L2 = len(L_arr_2)\n",
    "U_arr = U_arr_1 + U_arr_2 ; N_U = len(U_arr); N_U1 = len(U_arr_1);N_U2 = len(U_arr_2)\n",
    "beta_arr = np.concatenate((np.array(L_arr_1)*0.1,np.array(L_arr_2)*0.005))\n",
    "sorted_ = np.argsort(beta_arr)\n",
    "#add back real case\n",
    "nflux_arr_1.insert(0,0); #count no flux as part of arr 1\n",
    "nflux_arr = nflux_arr_1 + nflux_arr_2 ; \n",
    "N_nflux=len(nflux_arr); N_nflux_1 = len(nflux_arr_1);N_nflux_2 = len(nflux_arr_2);\n",
    "\n",
    "print(\"nflux list\",nflux_arr)\n",
    "print(\"U list\",U_arr)\n",
    "print(\"L list\",L_arr)\n",
    "\n",
    "cdw_arr = np.zeros((N_L,N_nflux,N_U),dtype=float)\n",
    "cdw_err_arr = np.zeros((N_L,N_nflux,N_U),dtype=float)\n",
    "sdw_arr = np.zeros((N_L,N_nflux,N_U),dtype=float)\n",
    "sdw_err_arr = np.zeros((N_L,N_nflux,N_U),dtype=float)\n",
    "\n",
    "for i in range(N_L):\n",
    "    for j in range(N_nflux):\n",
    "        for k in range(N_U):\n",
    "            L = L_arr[i]\n",
    "            nflux = nflux_arr[j]\n",
    "            U = U_arr[k]\n",
    "            if j < N_nflux_1:\n",
    "                if k < N_U1 and i < N_L1:\n",
    "                    data_path = f\"{data_root_1}/nflux{nflux}_L{L}_U{U}/\"\n",
    "                elif k < N_U1 and i >= N_L1:\n",
    "                    data_path = f\"{data_root_2}/nflux{nflux}_L{L}_U{U}/\"\n",
    "                elif k > N_U1 and i < N_L1:\n",
    "                    data_path = f\"{data_root_3}/nflux{nflux}_L{L}_U{U}/\"\n",
    "                elif k > N_U1 and i >= N_L1:\n",
    "                    data_path = f\"{data_root_4}/nflux{nflux}_L{L}_U{U}/\"\n",
    "                if j == 0:\n",
    "                    data_path = data_path.replace(\"B\",\"real_\")\n",
    "            #extra nflux values, if requested for check periodicity\n",
    "            else:\n",
    "                if i < N_L1:\n",
    "                    data_path = f\"{data_root_5}/nflux{nflux}_L{L}_U{U}/\"\n",
    "                else:\n",
    "                    data_path = f\"{data_root_6}/nflux{nflux}_L{L}_U{U}/\"\n",
    "            #print(data_path)\n",
    "            cdw_jk, sdw_jk = get_struct_factors(data_path)\n",
    "            cdw_arr[i,j,k] = cdw_jk[0]\n",
    "            cdw_err_arr[i,j,k] = cdw_jk[1]\n",
    "            \n",
    "            sdw_arr[i,j,k] = sdw_jk[0]\n",
    "            sdw_err_arr[i,j,k] = sdw_jk[1]\n",
    "\n"
   ]
  },
  {
   "cell_type": "code",
   "execution_count": 14,
   "metadata": {},
   "outputs": [],
   "source": [
    "#save plots\n",
    "da.plot_series(plotroot,\"CDW\",U_arr,nflux_arr,beta_arr,sorted_,cdw_arr,cdw_err_arr)\n",
    "da.plot_series(plotroot,\"SDW\",U_arr,nflux_arr,beta_arr,sorted_,sdw_arr,sdw_err_arr)"
   ]
  },
  {
   "cell_type": "markdown",
   "metadata": {},
   "source": [
    "# Pair correlator  vs B field strength, U, and temperature, 8x8, half filling"
   ]
  },
  {
   "cell_type": "code",
   "execution_count": 15,
   "metadata": {},
   "outputs": [],
   "source": [
    "def get_pair_sw(path):\n",
    "    Nx, Ny = util.load_firstfile(path, \"metadata/Nx\", \"metadata/Ny\")\n",
    "    ns, s ,d,  pair_sw = \\\n",
    "        util.load(path,\"meas_eqlt/n_sample\", \"meas_eqlt/sign\", \"meas_eqlt/density\",\\\n",
    "                  \"meas_eqlt/double_occ\",'meas_eqlt/pair_sw')\n",
    "    pair_sw = np.reshape(pair_sw,(-1,Nx,Ny),order='F')\n",
    "    \n",
    "    #if none complete, return 0\n",
    "    if da.info(path) != 0: \n",
    "        return np.array([np.nan,np.nan])\n",
    "    #some bins are complete, work with completed ones\n",
    "    mask = ns == ns.max(); nbin = mask.sum()\n",
    "    ns,s, zz,nn = ns[mask],s[mask],zz[mask],nn[mask]\n",
    "    \n",
    "    return cdw_jk, sdw_jk"
   ]
  },
  {
   "cell_type": "code",
   "execution_count": 16,
   "metadata": {},
   "outputs": [
    {
     "name": "stdout",
     "output_type": "stream",
     "text": [
      "nflux list [0, 1, 2, 4, 8, 16, 32]\n",
      "U list [0, 1, 4, 12, 0.5, 2, 6, 8, 9, 10]\n",
      "L list [5, 10, 20, 40, 80, 160, 2, 4, 8, 16, 32, 64]\n"
     ]
    }
   ],
   "source": [
    "L_arr_1, L_arr_2, U_arr_1, U_arr_2, nflux_arr_1,nflux_arr_2= \\\n",
    "    da.prep_data(data_root_1,data_root_2,data_root_3,data_root_4);\n",
    "\n",
    "            \n",
    "L_arr = L_arr_1 + L_arr_2 ; N_L = len(L_arr); N_L1 = len(L_arr_1);N_L2 = len(L_arr_2)\n",
    "U_arr = U_arr_1 + U_arr_2 ; N_U = len(U_arr); N_U1 = len(U_arr_1);N_U2 = len(U_arr_2)\n",
    "beta_arr = np.concatenate((np.array(L_arr_1)*0.1,np.array(L_arr_2)*0.005))\n",
    "sorted_ = np.argsort(beta_arr)\n",
    "#add back real case\n",
    "nflux_arr_1.insert(0,0); #count no flux as part of arr 1\n",
    "nflux_arr = nflux_arr_1 + nflux_arr_2 ; \n",
    "N_nflux=len(nflux_arr); N_nflux_1 = len(nflux_arr_1);N_nflux_2 = len(nflux_arr_2);\n",
    "\n",
    "print(\"nflux list\",nflux_arr)\n",
    "print(\"U list\",U_arr)\n",
    "print(\"L list\",L_arr)\n",
    "\n",
    "pair_sw_arr = np.zeros((N_L,N_nflux,N_U),dtype=float)\n",
    "pair_sw_err_arr = np.zeros((N_L,N_nflux,N_U),dtype=float)\n",
    "\n",
    "for i in range(N_L):\n",
    "    for j in range(N_nflux):\n",
    "        for k in range(N_U):\n",
    "            L = L_arr[i]\n",
    "            nflux = nflux_arr[j]\n",
    "            U = U_arr[k]\n",
    "            if j < N_nflux_1:\n",
    "                if k < N_U1 and i < N_L1:\n",
    "                    data_path = f\"{data_root_1}/nflux{nflux}_L{L}_U{U}/\"\n",
    "                elif k < N_U1 and i >= N_L1:\n",
    "                    data_path = f\"{data_root_2}/nflux{nflux}_L{L}_U{U}/\"\n",
    "                elif k > N_U1 and i < N_L1:\n",
    "                    data_path = f\"{data_root_3}/nflux{nflux}_L{L}_U{U}/\"\n",
    "                elif k > N_U1 and i >= N_L1:\n",
    "                    data_path = f\"{data_root_4}/nflux{nflux}_L{L}_U{U}/\"\n",
    "                if j == 0:\n",
    "                    data_path = data_path.replace(\"B\",\"real_\")\n",
    "            #extra nflux values, if requested for check periodicity\n",
    "            else:\n",
    "                if i < N_L1:\n",
    "                    data_path = f\"{data_root_5}/nflux{nflux}_L{L}_U{U}/\"\n",
    "                else:\n",
    "                    data_path = f\"{data_root_6}/nflux{nflux}_L{L}_U{U}/\"\n",
    "            #print(data_path)\n"
   ]
  },
  {
   "cell_type": "code",
   "execution_count": null,
   "metadata": {},
   "outputs": [],
   "source": []
  },
  {
   "cell_type": "code",
   "execution_count": null,
   "metadata": {},
   "outputs": [],
   "source": []
  },
  {
   "cell_type": "code",
   "execution_count": null,
   "metadata": {},
   "outputs": [],
   "source": []
  },
  {
   "cell_type": "code",
   "execution_count": null,
   "metadata": {},
   "outputs": [],
   "source": []
  },
  {
   "cell_type": "markdown",
   "metadata": {},
   "source": [
    "# Conductivity sigma_xx(freq=0) vs B field strength and temperature, 8x8, U=0, half filling"
   ]
  },
  {
   "cell_type": "code",
   "execution_count": 17,
   "metadata": {},
   "outputs": [],
   "source": [
    "def get_sigma_xx_zero_freq(path,show_profile=False):\n",
    "    Nx,Ny,bps,L=util.load_firstfile(path,\"metadata/Nx\",\"metadata/Ny\",\"metadata/bps\",\"params/L\")\n",
    "    ns, s, jj = util.load(path,\n",
    "        \"meas_uneqlt/n_sample\", \"meas_uneqlt/sign\", \"meas_uneqlt/jj\")\n",
    "    #reshape jj into more intuitive shape\n",
    "    jj = np.reshape(jj,(-1,Nx,Ny,bps,bps,L),order='F')\n",
    "    jj = np.transpose(jj,(0,5,4,3,1,2))\n",
    "    #print(jj.shape)\n",
    "    \n",
    "    if da.info(path,uneqlt=True) != 0: \n",
    "        return np.array([np.nan,np.nan])\n",
    "    #some bins are complete, work with completed ones\n",
    "    mask = ns == ns.max(); nbin = mask.sum()\n",
    "    ns,s, jj= ns[mask],s[mask], jj[mask]\n",
    "    \n",
    "    \n",
    "    jjq0 = jj.sum((-1,-2))   #take q == 0\n",
    "    #forumlas specific to tp = 0, bps=2 case\n",
    "    jxjxq0 = -jjq0[:,:, 0, 0]\n",
    "    jyjyq0 = -jjq0[:,:, 1, 1]\n",
    "    jxjyq0 = -jjq0[:,:, 1, 0]\n",
    "    jyjxq0 = -jjq0[:,:, 0, 1]\n",
    "    #look at profiles\n",
    "    \n",
    "    #chi = <(jx + i*jy) (jx-i*jy)> \n",
    "    chiq0_asymm = (jxjyq0 - jyjxq0)\n",
    "    chiq0_symm =  (jxjxq0 + jyjyq0)\n",
    "    if show_profile and beta == 1:\n",
    "        da.plot_profile(chiq0_symm.real,r'time slice $\\ell$',r'$j_xj_x + j_yj_y$')\n",
    "        da.plot_profile(chiq0_asymm.imag,r'time slice $\\ell$',r'$j_xj_y - j_y j_x$')\n",
    "\n",
    "    proxy = chiq0_asymm[:,L//2]\n",
    "    #check real part dominate\n",
    "    f=lambda s, sx: (sx.T/s.T).T\n",
    "    sig_jk = util.jackknife(s,proxy,f = f)\n",
    "    \n",
    "    #assert la.norm(sig.imag)/la.norm(sig.real) < 1e-2, \\\n",
    "    #    f\"imag/real norm = {la.norm(sig.imag)/la.norm(sig.real)} is too large\"\n",
    "    #TODO\n",
    "    return sig_jk"
   ]
  },
  {
   "cell_type": "code",
   "execution_count": 18,
   "metadata": {},
   "outputs": [
    {
     "name": "stdout",
     "output_type": "stream",
     "text": [
      "nflux list [0, 1, 2, 4, 8, 16, 32]\n",
      "U list [0, 1, 4, 12, 0.5, 2, 6, 8, 9, 10]\n",
      "L list [5, 10, 20, 40, 80, 160, 2, 4, 8, 16, 32, 64]\n",
      "../../Data-DQMC/real_TextraU_sweep_lowtemp/nflux0_L5_U2/ no data\n",
      "../../Data-DQMC/real_TextraU_sweep_lowtemp/nflux0_L5_U6/ no data\n",
      "../../Data-DQMC/real_TextraU_sweep_lowtemp/nflux0_L5_U8/ no data\n",
      "../../Data-DQMC/real_TextraU_sweep_lowtemp/nflux0_L5_U9/ no data\n",
      "../../Data-DQMC/real_TextraU_sweep_lowtemp/nflux0_L5_U10/ no data\n",
      "../../Data-DQMC/real_TextraU_sweep_lowtemp/nflux0_L10_U2/ no data\n",
      "../../Data-DQMC/real_TextraU_sweep_lowtemp/nflux0_L10_U6/ no data\n",
      "../../Data-DQMC/real_TextraU_sweep_lowtemp/nflux0_L10_U8/ no data\n",
      "../../Data-DQMC/real_TextraU_sweep_lowtemp/nflux0_L10_U9/ no data\n",
      "../../Data-DQMC/real_TextraU_sweep_lowtemp/nflux0_L10_U10/ no data\n",
      "../../Data-DQMC/real_TextraU_sweep_lowtemp/nflux0_L20_U2/ no data\n",
      "../../Data-DQMC/real_TextraU_sweep_lowtemp/nflux0_L20_U6/ no data\n",
      "../../Data-DQMC/real_TextraU_sweep_lowtemp/nflux0_L20_U8/ no data\n",
      "../../Data-DQMC/real_TextraU_sweep_lowtemp/nflux0_L20_U9/ no data\n",
      "../../Data-DQMC/real_TextraU_sweep_lowtemp/nflux0_L20_U10/ no data\n",
      "../../Data-DQMC/real_TextraU_sweep_lowtemp/nflux0_L40_U2/ no data\n",
      "../../Data-DQMC/real_TextraU_sweep_lowtemp/nflux0_L40_U6/ no data\n",
      "../../Data-DQMC/real_TextraU_sweep_lowtemp/nflux0_L40_U8/ no data\n",
      "../../Data-DQMC/real_TextraU_sweep_lowtemp/nflux0_L40_U9/ no data\n",
      "../../Data-DQMC/real_TextraU_sweep_lowtemp/nflux0_L40_U10/ no data\n",
      "../../Data-DQMC/real_TextraU_sweep_lowtemp/nflux0_L80_U2/ no data\n",
      "../../Data-DQMC/real_TextraU_sweep_lowtemp/nflux0_L80_U6/ no data\n",
      "../../Data-DQMC/real_TextraU_sweep_lowtemp/nflux0_L80_U8/ no data\n",
      "../../Data-DQMC/real_TextraU_sweep_lowtemp/nflux0_L80_U9/ no data\n",
      "../../Data-DQMC/real_TextraU_sweep_lowtemp/nflux0_L80_U10/ no data\n",
      "../../Data-DQMC/real_TextraU_sweep_lowtemp/nflux0_L160_U2/ no data\n",
      "../../Data-DQMC/real_TextraU_sweep_lowtemp/nflux0_L160_U6/ no data\n",
      "../../Data-DQMC/real_TextraU_sweep_lowtemp/nflux0_L160_U8/ no data\n",
      "../../Data-DQMC/real_TextraU_sweep_lowtemp/nflux0_L160_U9/ no data\n",
      "../../Data-DQMC/real_TextraU_sweep_lowtemp/nflux0_L160_U10/ no data\n",
      "../../Data-DQMC/real_TextraU_sweep_hightemp/nflux0_L2_U2/ no data\n",
      "../../Data-DQMC/real_TextraU_sweep_hightemp/nflux0_L2_U6/ no data\n",
      "../../Data-DQMC/real_TextraU_sweep_hightemp/nflux0_L2_U8/ no data\n",
      "../../Data-DQMC/real_TextraU_sweep_hightemp/nflux0_L2_U9/ no data\n",
      "../../Data-DQMC/real_TextraU_sweep_hightemp/nflux0_L2_U10/ no data\n",
      "../../Data-DQMC/real_TextraU_sweep_hightemp/nflux0_L4_U2/ no data\n",
      "../../Data-DQMC/real_TextraU_sweep_hightemp/nflux0_L4_U6/ no data\n",
      "../../Data-DQMC/real_TextraU_sweep_hightemp/nflux0_L4_U8/ no data\n",
      "../../Data-DQMC/real_TextraU_sweep_hightemp/nflux0_L4_U9/ no data\n",
      "../../Data-DQMC/real_TextraU_sweep_hightemp/nflux0_L4_U10/ no data\n",
      "../../Data-DQMC/real_TextraU_sweep_hightemp/nflux0_L8_U2/ no data\n",
      "../../Data-DQMC/real_TextraU_sweep_hightemp/nflux0_L8_U6/ no data\n",
      "../../Data-DQMC/real_TextraU_sweep_hightemp/nflux0_L8_U8/ no data\n",
      "../../Data-DQMC/real_TextraU_sweep_hightemp/nflux0_L8_U9/ no data\n",
      "../../Data-DQMC/real_TextraU_sweep_hightemp/nflux0_L8_U10/ no data\n",
      "../../Data-DQMC/real_TextraU_sweep_hightemp/nflux0_L16_U2/ no data\n",
      "../../Data-DQMC/real_TextraU_sweep_hightemp/nflux0_L16_U6/ no data\n",
      "../../Data-DQMC/real_TextraU_sweep_hightemp/nflux0_L16_U8/ no data\n",
      "../../Data-DQMC/real_TextraU_sweep_hightemp/nflux0_L16_U9/ no data\n",
      "../../Data-DQMC/real_TextraU_sweep_hightemp/nflux0_L16_U10/ no data\n",
      "../../Data-DQMC/real_TextraU_sweep_hightemp/nflux0_L32_U2/ no data\n",
      "../../Data-DQMC/real_TextraU_sweep_hightemp/nflux0_L32_U6/ no data\n",
      "../../Data-DQMC/real_TextraU_sweep_hightemp/nflux0_L32_U8/ no data\n",
      "../../Data-DQMC/real_TextraU_sweep_hightemp/nflux0_L32_U9/ no data\n",
      "../../Data-DQMC/real_TextraU_sweep_hightemp/nflux0_L32_U10/ no data\n",
      "../../Data-DQMC/real_TextraU_sweep_hightemp/nflux0_L64_U2/ no data\n",
      "../../Data-DQMC/real_TextraU_sweep_hightemp/nflux0_L64_U6/ no data\n",
      "../../Data-DQMC/real_TextraU_sweep_hightemp/nflux0_L64_U8/ no data\n",
      "../../Data-DQMC/real_TextraU_sweep_hightemp/nflux0_L64_U9/ no data\n",
      "../../Data-DQMC/real_TextraU_sweep_hightemp/nflux0_L64_U10/ no data\n"
     ]
    }
   ],
   "source": [
    "L_arr_1, L_arr_2, U_arr_1, U_arr_2, nflux_arr_1,nflux_arr_2= \\\n",
    "    da.prep_data(data_root_1,data_root_2,data_root_3,data_root_4);\n",
    "            \n",
    "L_arr = L_arr_1 + L_arr_2 ; N_L = len(L_arr); N_L1 = len(L_arr_1);N_L2 = len(L_arr_2)\n",
    "U_arr = U_arr_1 + U_arr_2 ; N_U = len(U_arr); N_U1 = len(U_arr_1);N_U2 = len(U_arr_2)\n",
    "beta_arr = np.concatenate((np.array(L_arr_1)*0.1,np.array(L_arr_2)*0.005))\n",
    "sorted_ = np.argsort(beta_arr)\n",
    "#add back real case\n",
    "nflux_arr_1.insert(0,0); #count no flux as part of arr 1\n",
    "nflux_arr = nflux_arr_1 + nflux_arr_2 ; \n",
    "N_nflux=len(nflux_arr); N_nflux_1 = len(nflux_arr_1);N_nflux_2 = len(nflux_arr_2);\n",
    "\n",
    "print(\"nflux list\",nflux_arr)\n",
    "print(\"U list\",U_arr)\n",
    "print(\"L list\",L_arr)\n",
    "\n",
    "sig_arr = np.zeros((N_L,N_nflux,N_U),dtype=complex)\n",
    "sig_err_arr = np.zeros((N_L,N_nflux,N_U),dtype=complex)\n",
    "for i in range(N_L):\n",
    "    for j in range(N_nflux):\n",
    "        for k in range(N_U):\n",
    "            L = L_arr[i]\n",
    "            nflux = nflux_arr[j]\n",
    "            U = U_arr[k]\n",
    "            if j < N_nflux_1:\n",
    "                if k < N_U1 and i < N_L1:\n",
    "                    data_path = f\"{data_root_1}/nflux{nflux}_L{L}_U{U}/\"\n",
    "                elif k < N_U1 and i >= N_L1:\n",
    "                    data_path = f\"{data_root_2}/nflux{nflux}_L{L}_U{U}/\"\n",
    "                elif k > N_U1 and i < N_L1:\n",
    "                    data_path = f\"{data_root_3}/nflux{nflux}_L{L}_U{U}/\"\n",
    "                elif k > N_U1 and i >= N_L1:\n",
    "                    data_path = f\"{data_root_4}/nflux{nflux}_L{L}_U{U}/\"\n",
    "                if j == 0:\n",
    "                    data_path = data_path.replace(\"B\",\"real_\")\n",
    "            #extra nflux values, if requested for check periodicity\n",
    "            else:\n",
    "                if i < N_L1:\n",
    "                    data_path = f\"{data_root_5}/nflux{nflux}_L{L}_U{U}/\"\n",
    "                else:\n",
    "                    data_path = f\"{data_root_6}/nflux{nflux}_L{L}_U{U}/\"\n",
    "            sig_jk = get_sigma_xx_zero_freq(data_path,show_profile=False)\n",
    "            sig_arr[i,j,k] = sig_jk[0]\n",
    "            sig_err_arr[i,j,k] = sig_jk[1]\n"
   ]
  },
  {
   "cell_type": "code",
   "execution_count": 19,
   "metadata": {},
   "outputs": [],
   "source": [
    "da.plot_series(plotroot,\"Im[sigma_xx]\",U_arr,nflux_arr,beta_arr,sorted_,sig_arr.imag,sig_err_arr.imag)\n",
    "da.plot_series(plotroot,\"Re[sigma_xx]\",U_arr,nflux_arr,beta_arr,sorted_,sig_arr.real,sig_err_arr.real)\n"
   ]
  },
  {
   "cell_type": "code",
   "execution_count": null,
   "metadata": {},
   "outputs": [],
   "source": []
  }
 ],
 "metadata": {
  "kernelspec": {
   "display_name": "Python 3",
   "language": "python",
   "name": "python3"
  },
  "language_info": {
   "codemirror_mode": {
    "name": "ipython",
    "version": 3
   },
   "file_extension": ".py",
   "mimetype": "text/x-python",
   "name": "python",
   "nbconvert_exporter": "python",
   "pygments_lexer": "ipython3",
   "version": "3.7.3"
  }
 },
 "nbformat": 4,
 "nbformat_minor": 2
}
