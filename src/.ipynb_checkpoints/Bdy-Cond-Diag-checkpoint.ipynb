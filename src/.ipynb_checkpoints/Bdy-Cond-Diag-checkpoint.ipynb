{
 "cells": [
  {
   "cell_type": "code",
   "execution_count": 1,
   "metadata": {},
   "outputs": [],
   "source": [
    "import numpy as np\n",
    "from scipy.sparse.linalg import eigsh\n",
    "from scipy.sparse import diags\n",
    "import matplotlib.pyplot as plt\n",
    "np.set_printoptions(precision=3)\n",
    "from itertools import product\n",
    "\n",
    "%load_ext autoreload"
   ]
  },
  {
   "cell_type": "code",
   "execution_count": null,
   "metadata": {},
   "outputs": [],
   "source": []
  },
  {
   "cell_type": "code",
   "execution_count": 2,
   "metadata": {},
   "outputs": [],
   "source": [
    "%autoreload 2"
   ]
  },
  {
   "cell_type": "code",
   "execution_count": 3,
   "metadata": {},
   "outputs": [],
   "source": [
    "def periodicH(t,W,N):\n",
    "    wd = W*np.random.random(N)-W/2\n",
    "    out = diags([-t*np.ones(N),-t*np.ones(N),-t,-t,wd],offsets=[1,-1,N-1,-(N-1),0],shape=(N,N),dtype=float)\n",
    "    #plt.figure()\n",
    "    #plt.imshow(out.toarray());plt.colorbar()\n",
    "    #print(np.sort(eigsh(out,k=N-1,return_eigenvectors=False)))\n",
    "    return np.sort(eigsh(out,k=N-1,return_eigenvectors=False))"
   ]
  },
  {
   "cell_type": "code",
   "execution_count": 4,
   "metadata": {},
   "outputs": [],
   "source": [
    "def antiperiodicH(t,W,N):\n",
    "    wd = W*np.random.random(N)-W/2\n",
    "    out = diags([-t*np.ones(N),-t*np.ones(N),t,t,wd],offsets=[1,-1,N-1,-(N-1),0],shape=(N,N),dtype=float)\n",
    "    #plt.figure()\n",
    "    \n",
    "    #plt.imshow(out.toarray());plt.colorbar()\n",
    "    #print(np.sort(eigsh(out,k=N-1,return_eigenvectors=False)))\n",
    "    #print(np.sort(eigsh(out,k=N-1,return_eigenvectors=False)))\n",
    "    return np.sort(eigsh(out,k=N-1,return_eigenvectors=False))"
   ]
  },
  {
   "cell_type": "code",
   "execution_count": 5,
   "metadata": {},
   "outputs": [
    {
     "data": {
      "text/plain": [
       "(array([144.,  61.,  48.,  42.,  38.,  36.,  34.,  33.,  32.,  32.,  32.,\n",
       "         32.,  33.,  34.,  36.,  38.,  42.,  48.,  61., 143.]),\n",
       " array([-6.283e-03, -5.655e-03, -5.027e-03, -4.398e-03, -3.770e-03,\n",
       "        -3.142e-03, -2.513e-03, -1.885e-03, -1.257e-03, -6.283e-04,\n",
       "        -3.101e-08,  6.283e-04,  1.257e-03,  1.885e-03,  2.513e-03,\n",
       "         3.142e-03,  3.770e-03,  4.398e-03,  5.026e-03,  5.655e-03,\n",
       "         6.283e-03]),\n",
       " <a list of 20 Patch objects>)"
      ]
     },
     "execution_count": 5,
     "metadata": {},
     "output_type": "execute_result"
    },
    {
     "data": {
      "image/png": "[encoded data removed]",
      "text/plain": [
       "<Figure size 432x288 with 1 Axes>"
      ]
     },
     "metadata": {
      "needs_background": "light"
     },
     "output_type": "display_data"
    },
    {
     "data": {
      "image/png": "[encoded data removed]",
      "text/plain": [
       "<Figure size 432x288 with 1 Axes>"
      ]
     },
     "metadata": {
      "needs_background": "light"
     },
     "output_type": "display_data"
    },
    {
     "data": {
      "image/png": "[encoded data removed]",
      "text/plain": [
       "<Figure size 432x288 with 1 Axes>"
      ]
     },
     "metadata": {
      "needs_background": "light"
     },
     "output_type": "display_data"
    }
   ],
   "source": [
    "v1 = periodicH(1,0,1000)\n",
    "v2 = antiperiodicH(1,0,1000)\n",
    "#print(v1-v2)\n",
    "plt.figure()\n",
    "plt.hist(v1,bins=20)\n",
    "plt.figure()\n",
    "plt.hist(v2,bins=20)\n",
    "plt.figure()\n",
    "plt.hist(v1-v2,bins=20)"
   ]
  }
 ],
 "metadata": {
  "kernelspec": {
   "display_name": "Python 3",
   "language": "python",
   "name": "python3"
  },
  "language_info": {
   "codemirror_mode": {
    "name": "ipython",
    "version": 3
   },
   "file_extension": ".py",
   "mimetype": "text/x-python",
   "name": "python",
   "nbconvert_exporter": "python",
   "pygments_lexer": "ipython3",
   "version": "3.7.3"
  }
 },
 "nbformat": 4,
 "nbformat_minor": 2
}
