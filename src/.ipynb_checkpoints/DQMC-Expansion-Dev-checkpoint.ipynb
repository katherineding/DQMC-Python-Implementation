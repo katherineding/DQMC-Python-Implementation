{
 "cells": [
  {
   "cell_type": "markdown",
   "metadata": {},
   "source": [
    "# DQMC Code following Tutorial"
   ]
  },
  {
   "cell_type": "code",
   "execution_count": 16,
   "metadata": {},
   "outputs": [],
   "source": [
    "from __future__ import division \n",
    "\n",
    "import numpy as np\n",
    "from scipy import linalg as la\n",
    "from scipy.sparse import coo_matrix\n",
    "import matplotlib.pyplot as plt\n",
    "\n",
    "np.set_printoptions(precision=3)"
   ]
  },
  {
   "cell_type": "markdown",
   "metadata": {},
   "source": [
    "## Hubbard (no chemical potential, only nearest-neighbor hopping) on 2D lattice, periodic B.C. half filling & zero total spin domain"
   ]
  },
  {
   "cell_type": "markdown",
   "metadata": {},
   "source": [
    "### Functions that construct matrices"
   ]
  },
  {
   "cell_type": "code",
   "execution_count": 17,
   "metadata": {},
   "outputs": [],
   "source": [
    "def makeKMatrix(t,Nx,Ny):\n",
    "    '''Generate kinetic matrix for 2D Nx-by-Ny lattice, periodic conditions.\n",
    "    Matrix created is deliberately not sparse. Zero chemical potential\n",
    "    This is fixed by Hamiltonian in question'''\n",
    "\n",
    "    # Initialize vectors of row and column indices, matrix data\n",
    "    i,j = np.empty(0,dtype=int), np.empty(0,dtype=int)\n",
    "    data = np.empty(0,dtype=float);\n",
    "    \n",
    "    #Look at each lattice pt, find nearest neighbors\n",
    "    for y in np.arange(Ny):\n",
    "        for x in np.arange(Nx):\n",
    "            #total index n\n",
    "            n = x+ Nx*y;\n",
    "            #nearest neighbors, with periodic B.C.\n",
    "            neighbors = [((x+1) % Nx,y),((x-1) % Nx,y),(x,(y+1) % Ny),(x,(y-1) % Ny)]\n",
    "            #get total indices of nearest neighbors\n",
    "            for pt in neighbors: \n",
    "                i = np.append(i,pt[0]+ Nx*pt[1]);\n",
    "            #everything stays in n-th column\n",
    "            j = np.append(j,n*np.ones(len(neighbors),dtype=int))\n",
    "            data = np.append(data,(-t)*np.ones(len(neighbors),dtype=float))\n",
    "    \n",
    "    #Construction\n",
    "    kmatrix = coo_matrix((data, (i,j)),shape = (Nx*Ny,Nx*Ny), dtype=float).toarray()\n",
    "    return kmatrix"
   ]
  },
  {
   "cell_type": "code",
   "execution_count": 18,
   "metadata": {},
   "outputs": [],
   "source": [
    "def makeKMatrix_with_phase(t,Nx,Ny):\n",
    "    '''Generate kinetic matrix for 2D Nx-by-Ny lattice, TWISTED periodic conditions.\n",
    "    Matrix created is deliberately not sparse. Zero chemical potential\n",
    "    This is fixed by Hamiltonian in question.\n",
    "    Args:\n",
    "        Nx\n",
    "        Ny\n",
    "        t\n",
    "    Returns:\n",
    "        N-by-N array. Complex Hermitian matrix'''\n",
    "    \n",
    "    # Initialize vectors of row and column indices, matrix data\n",
    "    i,j = np.empty(0,dtype=int), np.empty(0,dtype=int)\n",
    "    data = np.empty(0,dtype=complex);\n",
    "    \n",
    "    #Look at each lattice pt, find nearest neighbors\n",
    "    for y in np.arange(Ny):\n",
    "        for x in np.arange(Nx):\n",
    "            #print(\"x=\",x,\"y=\",y)\n",
    "            #total index n\n",
    "            n = x+ Nx*y;\n",
    "            #print('total index',n)\n",
    "            #nearest neighbors, with periodic B.C.\n",
    "            neighbors = [((x+1) % Nx,y),((x-1) % Nx,y),(x,(y+1) % Ny),(x,(y-1) % Ny)]\n",
    "            #distance = spacing*np.array([(1,0),(-1,0),(0,1),(0,-1)])\n",
    "            #print('y=',y,((y+1) % Ny),((y-1) % Ny))\n",
    "            integrals = np.array([0,0,B*0.5*(((y+1) % Ny)**2-y**2),B*0.5*(((y-1) % Ny)**2-y**2)])\n",
    "            phases = np.exp(-1j*charge/sol*integrals)\n",
    "            #print(np.imag(phases))\n",
    "            #get total indices of nearest neighbors\n",
    "            for pt in neighbors: \n",
    "                i = np.append(i,pt[0]+ Nx*pt[1]); #print(\"neighbor\",pt[0]+ Nx*pt[1])\n",
    "            #everything stays in n-th column\n",
    "            j = np.append(j,n*np.ones(len(neighbors),dtype=int))\n",
    "            data = np.append(data,-t*phases)\n",
    "    \n",
    "    #Construction\n",
    "    kmatrix = coo_matrix((data, (i,j)),shape = (Nx*Ny,Nx*Ny), dtype=complex).toarray()\n",
    "    return kmatrix"
   ]
  },
  {
   "cell_type": "code",
   "execution_count": 19,
   "metadata": {},
   "outputs": [
    {
     "name": "stdout",
     "output_type": "stream",
     "text": [
      "eigenvalues [-4.000e+00 -3.000e+00 -3.000e+00 -3.000e+00 -3.000e+00 -2.000e+00\n",
      " -2.000e+00 -2.000e+00 -2.000e+00 -1.000e+00 -1.000e+00 -1.000e+00\n",
      " -1.000e+00 -2.620e-15 -1.277e-16 -3.013e-17  1.121e-16  1.295e-16\n",
      "  1.548e-16  1.621e-16  3.165e-15  3.499e-15  3.572e-15  1.000e+00\n",
      "  1.000e+00  1.000e+00  1.000e+00  2.000e+00  2.000e+00  2.000e+00\n",
      "  2.000e+00  3.000e+00  3.000e+00  3.000e+00  3.000e+00  4.000e+00]\n"
     ]
    },
    {
     "data": {
      "text/plain": [
       "<matplotlib.colorbar.Colorbar at 0x2130d7e1eb8>"
      ]
     },
     "execution_count": 19,
     "metadata": {},
     "output_type": "execute_result"
    },
    {
     "data": {
      "image/png": "[encoded data removed]",
      "text/plain": [
       "<Figure size 432x288 with 2 Axes>"
      ]
     },
     "metadata": {
      "needs_background": "light"
     },
     "output_type": "display_data"
    }
   ],
   "source": [
    "kay = makeKMatrix_with_phase(1,6,6);\n",
    "kaydag = np.transpose(np.conj(kay))\n",
    "w2,v2 = la.eigh(kay)\n",
    "print('eigenvalues',w2)\n",
    "plt.imshow(np.imag(kay));\n",
    "plt.colorbar()"
   ]
  },
  {
   "cell_type": "code",
   "execution_count": 5,
   "metadata": {},
   "outputs": [],
   "source": [
    "def makeExpLamSData(S,spin):\n",
    "    '''Construct the length N vector exp(spin*lmbd*S[:,l]) for every single l = 0...L-1.\n",
    "    Each length N vector stands for a diagonal matrix of size N-by-N. \n",
    "    There are L total such matrices.\n",
    "    For efficiency, store information for all L matrices in one N-by-L 2D array.\n",
    "    Each column represents a different matrix'''\n",
    "    \n",
    "    assert spin == 1 or spin == -1, \"Spin value must be +1 or -1\"\n",
    "    \n",
    "    diags = np.zeros((N,L));\n",
    "    for l in np.arange(L):\n",
    "        diags[:,l] = np.exp(lmbd*S[:,l]*spin);\n",
    "        \n",
    "    return diags"
   ]
  },
  {
   "cell_type": "code",
   "execution_count": 6,
   "metadata": {},
   "outputs": [],
   "source": [
    "def makeGMatrix_QR(expVData,l_shift,batch_size,check=False):\n",
    "    '''Calculate green's funtion from scratch using Pivoted-QR to avoid \n",
    "    numerical error accumulation. Method described in tutorial\n",
    "    \n",
    "    Args:\n",
    "        batch_size: number of B matrices safe to multiply together without \n",
    "                    accumulating too much error\n",
    "        l_shift: account for change in GF defn after l wraps\n",
    "        expVData:  N-by-L 2D array, each column is exp(spin*lmbd*S[:,l]).\n",
    "        check: bool, whether to check if batch_size is safe\n",
    "        \n",
    "    Returns:\n",
    "        (N,N) Greens function matrix\n",
    "    '''\n",
    "    \n",
    "    #print('calculating greens fuction from scratch using QR...')\n",
    "    #print('batch size between QRs is',batch_size)\n",
    "    \n",
    "    #dimensions\n",
    "    N,L = expVData.shape\n",
    "    \n",
    "    #account for l_shift wraps: Roll forward, so that we start with \n",
    "    # the l-th column in zero-th column\n",
    "    expVData = np.roll(expVData,-l_shift,axis=1)\n",
    "\n",
    "    #divide into batches to reduce number of QR decomps we have to do\n",
    "    num_batches = L//batch_size\n",
    "    assert L % batch_size == 0, \"can't split L into even batches\"\n",
    "    \n",
    "    Bmats = [];\n",
    "    #form every batch by normal matrix multiplication\n",
    "    for j in np.arange(num_batches):\n",
    "        #split along axis 1 (L-axis) into batches\n",
    "        data_j = expVData[:,j*batch_size:(j+1)*batch_size]\n",
    "        #print(data_j.shape)\n",
    "        #start with identity\n",
    "        Bmat = np.identity(N)\n",
    "        #form B[(j+1)*b]....B[j*b] by multiplying right to left\n",
    "        for l in np.arange(data_j.shape[1]):\n",
    "            Bmat = (invexpdtK*data_j[:,l]) @ Bmat\n",
    "        Bmats.append(Bmat)\n",
    "    \n",
    "    #Now, go through Bmats and calculate matrix products \n",
    "    Q,R,perm = la.qr(Bmats[0],pivoting=True)\n",
    "    inv_perm = np.argsort(perm) #inverse of permutation: P^{-1} = P^T.\n",
    "    #print(la.norm(Bmat_0-Q @ R[:,inv_perm]))\n",
    "    D_arr = np.diagonal(R)\n",
    "    T = 1/D_arr[:,None] * R[:,inv_perm] #T = inv(D) @ R @ P^T\n",
    "    #print(la.norm(Bmat_0 - (Q * D_arr) @ T))\n",
    "    \n",
    "    #accum = Bmats[0]\n",
    "    for l in np.arange(1,num_batches):\n",
    "        #l-th B matrix\n",
    "        #Bmat_l = invexpdtK*expVData[:,l]\n",
    "        #accum = Bmats[l] @ accum\n",
    "        C = Bmats[l] @ Q * D_arr\n",
    "        Q,R,perm = la.qr(C,pivoting=True)\n",
    "        inv_perm = np.argsort(perm)\n",
    "        D_arr = np.diagonal(R)\n",
    "        T = ((1/D_arr[:,None]) * R[:,inv_perm]) @ T\n",
    "        #print(la.norm(accum-(Q*D_arr)@T))\n",
    "    \n",
    "    #post processing\n",
    "    Db_arr = np.zeros(D_arr.shape)\n",
    "    Ds_arr = np.zeros(D_arr.shape)\n",
    "    for i in np.arange(N):\n",
    "        if np.abs(D_arr[i]) > 1:\n",
    "            Db_arr[i] = D_arr[i]\n",
    "            Ds_arr[i] = 1\n",
    "        else:\n",
    "            Db_arr[i] = 1\n",
    "            Ds_arr[i] = D_arr[i]\n",
    "            \n",
    "    #result\n",
    "    g = la.solve(1/Db_arr[:,None] * np.transpose(Q) + Ds_arr[:,None]*T,\\\n",
    "                 1/Db_arr[:,None] * np.transpose(Q))\n",
    "    \n",
    "    #check == False for simulations, only for experience\n",
    "    if check:\n",
    "        print(\"checking if batch size\",batch_size,\"is safe\")\n",
    "        \n",
    "        #start with B_0\n",
    "        Bmat_0 = invexpdtK*expVData[:,0]\n",
    "        Q,R,perm = la.qr(Bmat_0,pivoting=True)\n",
    "        inv_perm = np.argsort(perm) \n",
    "        D_arr = np.diagonal(R)\n",
    "        T = 1/D_arr[:,None] * R[:,inv_perm] #T = inv(D) @ R @ P^T\n",
    "        \n",
    "        #Matrix products via QR trick\n",
    "        for l in np.arange(1,L):\n",
    "            #l-th B matrix\n",
    "            Bmat_l = invexpdtK*expVData[:,l]\n",
    "            C = Bmat_l @ Q * D_arr\n",
    "            Q,R,perm = la.qr(C,pivoting=True)\n",
    "            inv_perm = np.argsort(perm)\n",
    "            D_arr = np.diagonal(R)\n",
    "            T = ((1/D_arr[:,None]) * R[:,inv_perm]) @ T\n",
    "            \n",
    "        #post processing\n",
    "        Db_arr = np.zeros(D_arr.shape)\n",
    "        Ds_arr = np.zeros(D_arr.shape)\n",
    "        for i in np.arange(N):\n",
    "            if np.abs(D_arr[i]) > 1:\n",
    "                Db_arr[i] = D_arr[i]\n",
    "                Ds_arr[i] = 1\n",
    "            else:\n",
    "                Db_arr[i] = 1\n",
    "                Ds_arr[i] = D_arr[i]\n",
    "            \n",
    "        #check result\n",
    "        g_check = la.solve(1/Db_arr[:,None] * np.transpose(Q) + Ds_arr[:,None]*T,\\\n",
    "                 1/Db_arr[:,None] * np.transpose(Q))\n",
    "        \n",
    "        print(\"deviation =\",la.norm(g-g_check))\n",
    "    \n",
    "    return g\n",
    "    ##TODO"
   ]
  },
  {
   "cell_type": "code",
   "execution_count": 7,
   "metadata": {},
   "outputs": [
    {
     "data": {
      "text/plain": [
       "'gtest = makeGMatrix_QR(expVuData,0,50,check=True)\\ngorigin = makeGMatrix(expVuData)\\nprint(la.norm(gtest-gorigin))\\nplt.imshow(gtest)'"
      ]
     },
     "execution_count": 7,
     "metadata": {},
     "output_type": "execute_result"
    }
   ],
   "source": [
    "'''gtest = makeGMatrix_QR(expVuData,0,50,check=True)\n",
    "gorigin = makeGMatrix(expVuData)\n",
    "print(la.norm(gtest-gorigin))\n",
    "plt.imshow(gtest)'''"
   ]
  },
  {
   "cell_type": "code",
   "execution_count": 8,
   "metadata": {},
   "outputs": [
    {
     "data": {
      "text/plain": [
       "3"
      ]
     },
     "execution_count": 8,
     "metadata": {},
     "output_type": "execute_result"
    }
   ],
   "source": [
    "mat = np.array([[3,4,5,14],[6,7,8,13],[9,10,11,12]])\n",
    "mat[(0,0)]"
   ]
  },
  {
   "cell_type": "code",
   "execution_count": null,
   "metadata": {},
   "outputs": [],
   "source": []
  },
  {
   "cell_type": "code",
   "execution_count": null,
   "metadata": {},
   "outputs": [],
   "source": []
  },
  {
   "cell_type": "code",
   "execution_count": 9,
   "metadata": {},
   "outputs": [
    {
     "data": {
      "text/plain": [
       "'# Input Parameters\\nNx = 6; #height of cluster\\nNy = 6; #width of cluster\\nbeta = 1; #inverse temperature\\nL = 10; #number of imaginary time slices\\nU = 4; #Coulomb interaction strength\\nt = 1; #Hopping strength\\nnwarm = 200; #number of warm up Monte Carlo sweeps.\\nnmeas = 800; #number of measurement Monte Carlo sweeps.\\n\\n# Derived constants\\nN = Nx*Ny; #total number of grid points\\ndt = beta/L; #imaginary time interval\\nlmbd = np.arccosh(np.exp(U*dt/2)) #lambda in H-S transform\\nkmatrix = makeKMatrix(t,Nx,Ny);\\ninvexpdtK = la.expm(-dt*kmatrix);\\nexpdtK = la.expm(dt*kmatrix); #this matrix used only in G-fun wrapping\\n\\n#Initialize Auxillary H-S field as N-by-L 2D array.\\n#Each column is a different time slice\\nS = np.random.choice([-1,1],(N,L))\\nexpVuData = makeExpLamSData(S,spin=1);\\nexpVdData = makeExpLamSData(S,spin=-1);\\nGu = makeGMatrix_QR(expVuData,0)\\nGd = makeGMatrix_QR(expVdData,0)'"
      ]
     },
     "execution_count": 9,
     "metadata": {},
     "output_type": "execute_result"
    }
   ],
   "source": [
    "'''# Input Parameters\n",
    "Nx = 6; #height of cluster\n",
    "Ny = 6; #width of cluster\n",
    "beta = 1; #inverse temperature\n",
    "L = 10; #number of imaginary time slices\n",
    "U = 4; #Coulomb interaction strength\n",
    "t = 1; #Hopping strength\n",
    "nwarm = 200; #number of warm up Monte Carlo sweeps.\n",
    "nmeas = 800; #number of measurement Monte Carlo sweeps.\n",
    "\n",
    "# Derived constants\n",
    "N = Nx*Ny; #total number of grid points\n",
    "dt = beta/L; #imaginary time interval\n",
    "lmbd = np.arccosh(np.exp(U*dt/2)) #lambda in H-S transform\n",
    "kmatrix = makeKMatrix(t,Nx,Ny);\n",
    "invexpdtK = la.expm(-dt*kmatrix);\n",
    "expdtK = la.expm(dt*kmatrix); #this matrix used only in G-fun wrapping\n",
    "\n",
    "#Initialize Auxillary H-S field as N-by-L 2D array.\n",
    "#Each column is a different time slice\n",
    "S = np.random.choice([-1,1],(N,L))\n",
    "expVuData = makeExpLamSData(S,spin=1);\n",
    "expVdData = makeExpLamSData(S,spin=-1);\n",
    "Gu = makeGMatrix_QR(expVuData,0)\n",
    "Gd = makeGMatrix_QR(expVdData,0)'''"
   ]
  },
  {
   "cell_type": "markdown",
   "metadata": {},
   "source": [
    "### Measurement functions"
   ]
  },
  {
   "cell_type": "code",
   "execution_count": 10,
   "metadata": {},
   "outputs": [],
   "source": [
    "def meas_energy(E_accum,Gu,Gd):\n",
    "    '''Add energy in this configuration\n",
    "    <E>_s = -t sum_{<ij>,spin} c_{j,spin}^dag c_{i,spin}+ U sum{i} n_up*n_dn to accumulator'''\n",
    "    N = Gu.shape[0];# E_accum\n",
    "    for i in np.arange(N):\n",
    "        #lattice coordinates, count down each column\n",
    "        ix = i % Nx; iy = i // Nx;\n",
    "        #print(ix,',',iy)\n",
    "        neighbors = [((ix+1) % Nx,iy),((ix-1) % Nx,iy),(ix,(iy+1) % Ny),(ix,(iy-1) % Ny)]\n",
    "        for pt in neighbors:\n",
    "            #GF coordinate\n",
    "            j = pt[0] + Nx * pt[1]\n",
    "            #print(j)\n",
    "            E_accum += t*Gu[i,j] #up hopping, to direction j\n",
    "            E_accum += t*Gd[i,j] #down hopping, to direction j\n",
    "       \n",
    "        # U*sum{i} n_up*n_dn  - 0.5U*sum_{i} (nup + ndn)\n",
    "        E_accum += U*(1 - Gu[i,i])*(1 - Gd[i,i]) - 0.5*U*((1- Gu[i,i]) + (1- Gd[i,i]))\n",
    "            \n",
    "    return E_accum"
   ]
  },
  {
   "cell_type": "code",
   "execution_count": 11,
   "metadata": {},
   "outputs": [],
   "source": [
    "def meas_occupancy(nup,ndn,doubleocc,Gu,Gd):\n",
    "    '''Add average [over sites] occupancy tuple in this configuration nup,ndn,doubleocc to accumulators'''\n",
    "    N = Gu.shape[0];\n",
    "    for i in np.arange(N):\n",
    "        nup += (1- Gu[i,i])/N;\n",
    "        ndn += (1- Gd[i,i])/N;\n",
    "        doubleocc += (1 - Gu[i,i])*(1 - Gd[i,i])/N;\n",
    "        \n",
    "    return nup, ndn, doubleocc"
   ]
  },
  {
   "cell_type": "code",
   "execution_count": 12,
   "metadata": {},
   "outputs": [],
   "source": [
    "def meas_current(jx_accum,jy_accum,Gu,Gd):\n",
    "    '''Add total current (jx,jy) tuple in this configuration to accumulators\n",
    "    Sign may be incorrect'''\n",
    "    \n",
    "    N = Gu.shape[0];\n",
    "    \n",
    "    for i in np.arange(N):\n",
    "        #lattice coordinates, count down each column\n",
    "        ix = i % Nx; iy = i // Nx;\n",
    "        #print(ix,',',iy)\n",
    "        neighbors = [((ix+1) % Nx,iy),((ix-1) % Nx,iy),(ix,(iy+1) % Ny),(ix,(iy-1) % Ny)]\n",
    "        dirs = [(1,0),(-1,0),(0,1),(0,-1)]\n",
    "        for i in np.arange(len(neighbors)):\n",
    "            pt = neighbors[i]\n",
    "            #GF coordinate\n",
    "            j = pt[0] + Nx * pt[1]\n",
    "            #print(j)\n",
    "            jx_accum += 1j*t*(Gu[j,i]+Gd[j,i])*dirs[i][0] #both spins\n",
    "            jy_accum += 1j*t*(Gu[j,i]+Gd[j,i])*dirs[i][1]\n",
    "    \n",
    "    return jx_accum, jy_accum"
   ]
  },
  {
   "cell_type": "markdown",
   "metadata": {},
   "source": [
    "# Want: Quantities as a function of temperature for fixed U,t, Nx, Ny"
   ]
  },
  {
   "cell_type": "code",
   "execution_count": 13,
   "metadata": {},
   "outputs": [
    {
     "name": "stdout",
     "output_type": "stream",
     "text": [
      "temperatures: [1]\n",
      "imaginary time steps: [10]\n",
      "QR batch size: [10]\n"
     ]
    }
   ],
   "source": [
    "#what temperatures are we looking at?\n",
    "beta_array = np.flip(np.array([1]))\n",
    "#beta_array = np.flip(np.array([0.01,0.04,0.1,0.4,1]))\n",
    "print(\"temperatures:\",beta_array)\n",
    "L_array = np.maximum(5,np.ceil(beta_array/0.1),casting='unsafe',dtype=int)\n",
    "print(\"imaginary time steps:\",L_array)\n",
    "batch_size_array = np.minimum(10,np.maximum(L_array,5*np.ones(beta_array.shape[0],dtype=int)))\n",
    "print(\"QR batch size:\",batch_size_array)\n",
    "\n",
    "#what quantities are we measuring?\n",
    "mz_array =  np.zeros(beta_array.shape[0],dtype=float)\n",
    "energy_array = np.zeros(beta_array.shape[0],dtype=float)\n",
    "jx_array = np.zeros(beta_array.shape[0],dtype=complex)\n",
    "jy_array = np.zeros(beta_array.shape[0],dtype=complex)"
   ]
  },
  {
   "cell_type": "code",
   "execution_count": 14,
   "metadata": {
    "scrolled": false
   },
   "outputs": [],
   "source": [
    "# Input Parameters\n",
    "Nx = 6; #height of cluster\n",
    "Ny = 6; #width of cluster\n",
    "U = 0; #Coulomb interaction strength\n",
    "t = 1; #Hopping strength\n",
    "wrap_every = 5 #how many wrappings by B_l to do before recomputing GF from scratch\n",
    "nwarm = 200; #number of warm up Monte Carlo sweeps.\n",
    "nmeas = 800; #number of measurement Monte Carlo sweeps.\n",
    "B = 0.07 #Magnitude of applied field\n",
    "charge=1 #Electric charge magnitude e\n",
    "sol=1 #Sped of light c"
   ]
  },
  {
   "cell_type": "markdown",
   "metadata": {},
   "source": [
    "## Experiment with how to take different measurements!"
   ]
  },
  {
   "cell_type": "code",
   "execution_count": 15,
   "metadata": {},
   "outputs": [
    {
     "name": "stdout",
     "output_type": "stream",
     "text": [
      "Temperature beta =  1 , dt =  0.1\n",
      "recompute GF every 5 wraps;  10 matmuls between QRs\n",
      "Sweep #  0\n",
      "Sweep #  200\n",
      "Sweep #  400\n",
      "Sweep #  600\n",
      "Sweep #  800\n",
      "<n_up> =  0.5000000000002648 <n_dn> =  0.5000000000002648 d =  0.25000000000013234\n",
      "<M_z> =  0.5000000000002648\n",
      "<E> =  -45.31822248149232\n",
      "<jx> =  8.879988680050503e-16j <jy> =  -1.554361272318705e-15j\n"
     ]
    },
    {
     "data": {
      "image/png": "[encoded data removed]",
      "text/plain": [
       "<Figure size 432x288 with 1 Axes>"
      ]
     },
     "metadata": {
      "needs_background": "light"
     },
     "output_type": "display_data"
    }
   ],
   "source": [
    "'''Sweep over temperature'''\n",
    "for m in np.arange(beta_array.shape[0]):\n",
    "    '''Initialize simulation'''\n",
    "    #Varying parameters\n",
    "    beta = beta_array[m]\n",
    "    L = L_array[m]\n",
    "    batch_size = batch_size_array[m]\n",
    "    \n",
    "    # Derived constants\n",
    "    N = Nx*Ny; #total number of grid points\n",
    "    dt = beta/L; #imaginary time interval\n",
    "    print('Temperature beta = ',beta,', dt = ',dt)\n",
    "    lmbd = np.arccosh(np.exp(U*dt/2)) #lambda in H-S transform\n",
    "    #print('lmbd',lmbd)\n",
    "    kmatrix = makeKMatrix(t,Nx,Ny); #kinetic matrix determined by t and mu\n",
    "    #kmatrix = makeKMatrix_with_phase(t,Nx,Ny); #kinetic matrix determined by t and mu\n",
    "    invexpdtK = la.expm(-dt*kmatrix);\n",
    "    #print(invexpdtK)\n",
    "    expdtK = la.expm(dt*kmatrix); #this matrix used only in G-fun wrapping\n",
    "    print(\"recompute GF every\",wrap_every,'wraps; ',batch_size,'matmuls between QRs')\n",
    "    #Initialize Auxillary H-S field as N-by-L 2D array.\n",
    "    #Each column is a different time slice\n",
    "    S = np.random.choice([-1,1],(N,L))\n",
    "    plt.imshow(S)\n",
    "    expVuData = makeExpLamSData(S,spin=1);\n",
    "    #print(expVuData)\n",
    "    expVdData = makeExpLamSData(S,spin=-1);\n",
    "    Gu = makeGMatrix_QR(expVuData,0,batch_size)\n",
    "    Gd = makeGMatrix_QR(expVdData,0,batch_size)\n",
    "    \n",
    "    #measurement accumulators for nmeas\n",
    "    nup,ndn,doubleocc = 0.0,0.0,0.0;\n",
    "    energy = 0.0;\n",
    "    jx,jy = 0.0,0.0;\n",
    "\n",
    "    '''Run simulation Markov chain'''\n",
    "    for n in np.arange(nmeas+nwarm):\n",
    "        \n",
    "        # Monitor progress\n",
    "        if n % 200 == 0:\n",
    "            print('Sweep # ',n)\n",
    "\n",
    "        # Recompute G-Funs before taking measurements at sweep #n to reduce accumulated rounding errors\n",
    "        Gu = makeGMatrix_QR(expVuData,l_shift=0,batch_size=batch_size)\n",
    "        Gd = makeGMatrix_QR(expVdData,l_shift=0,batch_size=batch_size)\n",
    "        #take measurements if finished warmup\n",
    "        if n >= nwarm:\n",
    "            energy = meas_energy(energy,Gu,Gd)\n",
    "            nup,ndn,doubleocc = meas_occupancy(nup,ndn,doubleocc,Gu,Gd)\n",
    "            jx,jy = meas_current(jx,jy,Gu,Gd)\n",
    "\n",
    "        # After maybe taking measurement, go through every [i,l] pair and propose \n",
    "        # flipping s[i,l]. Result: A S-field drawn with probability propto w_s\n",
    "        for l in np.arange(L):\n",
    "            if l % wrap_every == 0:\n",
    "                #recompute GFs from scratch:\n",
    "                Gu = makeGMatrix_QR(expVuData,l,batch_size)\n",
    "                Gd = makeGMatrix_QR(expVdData,l,batch_size)\n",
    "            for i in np.arange(N):\n",
    "                #Implicitly propose flipping s[i,l], calculate accept ratio\n",
    "                detu = 1 + (1-Gu[i,i])*(np.exp(-2*lmbd*S[i,l])-1);\n",
    "                detd = 1 + (1-Gd[i,i])*(np.exp(2*lmbd*S[i,l])-1);\n",
    "                alpha = detu*detd;\n",
    "                beta = np.random.random();\n",
    "                #Probability Min(1,alpha) of accepting flip \n",
    "                #If accept, update Gfuns, S[i,l], expVu[i,l],expVd[i,l]\n",
    "                #If reject, do nothing, look at next entry of S\n",
    "                if beta <= alpha:\n",
    "                    #print('flipping s[ i =',i,', l =',l,']')\n",
    "                    #Update G-funs using old s-field entries\n",
    "                    #Note : have to copy arrays to avoid modifying G-Funs prematurely\n",
    "                    col = Gu[:,i].copy(); col[i] = col[i]-1; #i-th column of Gup - delta\n",
    "                    row = Gu[i,:].copy(); #ith row of Gup\n",
    "                    mat = np.outer(col,row)\n",
    "                    Gu = Gu + (np.exp(-2*lmbd*S[i,l])-1)*mat/detu;\n",
    "\n",
    "                    col = Gd[:,i].copy(); col[i] = col[i]-1; #i-th column of Gdn - delta\n",
    "                    row = Gd[i,:].copy(); #ith row of Gdn\n",
    "                    mat = np.outer(col,row)\n",
    "                    Gd = Gd + (np.exp(2*lmbd*S[i,l])-1)*mat/detd;\n",
    "\n",
    "                    #Update S matrix\n",
    "                    S[i,l] = -S[i,l];\n",
    "\n",
    "                    #Update [i,l] entry of ExpLamSData_up, ExpLamSData_dn\n",
    "                    expVuData[i,l] = np.exp(lmbd*S[i,l]);\n",
    "                    expVdData[i,l] = np.exp(-lmbd*S[i,l]);\n",
    "\n",
    "            #After each l slice, wrap the B matrices.\n",
    "            #We do this in order to continue using nice formulas that allow us to quickly\n",
    "            #  calculate alpha and update G-funs.\n",
    "            #Exploit numpy broadcasting rules to avoid forming diagonal matrices.\n",
    "            #After l runs through 0...L-1, G-fun returns to textbook form, \n",
    "            #  with some roundoff errors from wrapping.\n",
    "            diag_u = expVuData[:,l];\n",
    "            diag_d = expVdData[:,l]; # == inv(diag_up)\n",
    "\n",
    "            Blu = invexpdtK * diag_u;\n",
    "            invBlu = diag_d[:,None] * expdtK;\n",
    "            Gu = Blu @ Gu @ invBlu;\n",
    "\n",
    "            Bld = invexpdtK * diag_d;\n",
    "            invBld = diag_u[:,None] * expdtK;\n",
    "            Gd = Bld @ Gd @ invBld;\n",
    "\n",
    "\n",
    "    '''print results'''\n",
    "    print(\"<n_up> = \",nup/nmeas,\"<n_dn> = \", ndn/nmeas,'d = ',doubleocc/nmeas)\n",
    "    print(\"<M_z> = \",(nup+ndn-2*doubleocc)/nmeas)\n",
    "    print(\"<E> = \", energy/nmeas)\n",
    "    print(\"<jx> = \",jx/nmeas,\"<jy> = \",jy/nmeas)\n",
    "    \n",
    "    #save results\n",
    "    mz_array[m] = (nup+ndn-2*doubleocc)/nmeas\n",
    "    energy_array[m] = energy/nmeas\n",
    "    jx_array[m] = jx/nmeas\n",
    "    jy_array[m] = jy/nmeas"
   ]
  },
  {
   "cell_type": "code",
   "execution_count": null,
   "metadata": {},
   "outputs": [],
   "source": [
    "plt.figure()\n",
    "plt.plot(1/beta_array,energy_array,'^--')\n",
    "plt.xscale('log')\n",
    "plt.grid(True)\n",
    "#plt.ylim([0.4,1.05])\n",
    "plt.ylabel(\"$<E>$\")\n",
    "plt.xlabel(\"$T = 1/beta $\")\n",
    "plt.title('U='+str(U)+\" Nx=\"+str(Nx)+\" Ny=\"+str(Ny))\n",
    "\n",
    "Ustr = str(U).replace('.','p')\n",
    "\n",
    "plotname = 'output/energy_vs_T_'+'U_'+Ustr+'.png'\n",
    "#print(plotname)\n",
    "#plt.savefig(plotname,dpi = 300)\n",
    "\n",
    "plt.figure()\n",
    "plt.plot(1/beta_array,np.imag(jx_array),'*:',1/beta_array,np.imag(jy_array),\".:\")\n",
    "plt.xscale('log')\n",
    "plt.grid(True)\n",
    "plt.ylabel(\"<current>\")\n",
    "plt.xlabel(\"$T = 1/beta $\")\n",
    "plt.legend(('jx', 'jy'),loc='best')\n",
    "plt.title('U='+str(U)+\" Nx=\"+str(Nx)+\" Ny=\"+str(Ny))\n",
    "\n",
    "plt.figure()\n",
    "plt.plot(1/beta_array,mz_array,'*:')\n",
    "plt.xscale('log')\n",
    "plt.grid(True)\n",
    "plt.ylabel(\"$<m_z^2>$\")\n",
    "plt.xlabel(\"$T = 1/beta $\")\n",
    "plt.title('U='+str(U)+\" Nx=\"+str(Nx)+\" Ny=\"+str(Ny))\n",
    "\n",
    "output_dir_prefix = datetime.date.today().strftime('%m-%d-%Y') + \"_test\"\n",
    "datafname = 'output/energy_vs_T_'+'U_'+Ustr+'.npz'\n",
    "wrap_every = 5\n",
    "np.savez(datafname,\\\n",
    "         beta_array = beta_array, L_array =L_array,\\\n",
    "         energy_array = energy_array,\\\n",
    "         moment_array = mz_array,\\\n",
    "         U=U,Nx=Nx,Ny=Ny,t=t,nwarm=nwarm,nmeas=nmeas,\\\n",
    "         wrap_every=wrap_every,\\\n",
    "         batch_size_array = batch_size_array)"
   ]
  },
  {
   "cell_type": "code",
   "execution_count": 31,
   "metadata": {},
   "outputs": [
    {
     "name": "stdout",
     "output_type": "stream",
     "text": [
      "[-65.796 -55.466 -46.362 -33.48    0.      0.      0.      0.      0.   ]\n"
     ]
    }
   ],
   "source": [
    "d = np.load(datafname)\n",
    "print(d['energy_array'])"
   ]
  },
  {
   "cell_type": "code",
   "execution_count": null,
   "metadata": {},
   "outputs": [],
   "source": []
  },
  {
   "cell_type": "code",
   "execution_count": null,
   "metadata": {},
   "outputs": [],
   "source": []
  }
 ],
 "metadata": {
  "kernelspec": {
   "display_name": "Python 3",
   "language": "python",
   "name": "python3"
  },
  "language_info": {
   "codemirror_mode": {
    "name": "ipython",
    "version": 3
   },
   "file_extension": ".py",
   "mimetype": "text/x-python",
   "name": "python",
   "nbconvert_exporter": "python",
   "pygments_lexer": "ipython3",
   "version": "3.7.3"
  }
 },
 "nbformat": 4,
 "nbformat_minor": 2
}
