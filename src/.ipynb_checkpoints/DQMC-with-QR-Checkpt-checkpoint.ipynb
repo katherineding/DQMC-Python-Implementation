{
 "cells": [
  {
   "cell_type": "markdown",
   "metadata": {},
   "source": [
    "# DQMC Code following Tutorial"
   ]
  },
  {
   "cell_type": "code",
   "execution_count": 1,
   "metadata": {},
   "outputs": [],
   "source": [
    "from __future__ import division \n",
    "\n",
    "import numpy as np\n",
    "from scipy import linalg as la\n",
    "from scipy.sparse import coo_matrix\n",
    "import matplotlib.pyplot as plt\n",
    "\n",
    "np.set_printoptions(precision=3)"
   ]
  },
  {
   "cell_type": "markdown",
   "metadata": {},
   "source": [
    "## Hubbard (no chemical potential, only nearest-neighbor hopping) on 2D lattice, periodic B.C. Half Filling & zero spin domain"
   ]
  },
  {
   "cell_type": "code",
   "execution_count": 2,
   "metadata": {},
   "outputs": [],
   "source": [
    "def makeKMatrix(t,Nx,Ny):\n",
    "    '''Generate kinetic matrix for 2D Nx-by-Ny lattice, periodic conditions.\n",
    "    Matrix created is deliberately not sparse. Zero chemical potential\n",
    "    This is fixed by Hamiltonian in question'''\n",
    "\n",
    "    # Initialize vectors of row and column indices, matrix data\n",
    "    i,j = np.empty(0,dtype=int), np.empty(0,dtype=int)\n",
    "    data = np.empty(0,dtype=float);\n",
    "    \n",
    "    #Look at each lattice pt, find nearest neighbors\n",
    "    for y in np.arange(Ny):\n",
    "        for x in np.arange(Nx):\n",
    "            #total index n\n",
    "            n = x+ Nx*y;\n",
    "            #nearest neighbors, with periodic B.C.\n",
    "            neighbors = [((x+1) % Nx,y),((x-1) % Nx,y),(x,(y+1) % Ny),(x,(y-1) % Ny)]\n",
    "            #get total indices of nearest neighbors\n",
    "            for pt in neighbors: \n",
    "                i = np.append(i,pt[0]+ Nx*pt[1]);\n",
    "            #everything stays in n-th column\n",
    "            j = np.append(j,n*np.ones(len(neighbors),dtype=int))\n",
    "            data = np.append(data,(-t)*np.ones(len(neighbors),dtype=float))\n",
    "    \n",
    "    #Construction\n",
    "    kmatrix = coo_matrix((data, (i,j)),shape = (Nx*Ny,Nx*Ny), dtype=float).toarray()\n",
    "    return kmatrix"
   ]
  },
  {
   "cell_type": "code",
   "execution_count": 3,
   "metadata": {},
   "outputs": [
    {
     "data": {
      "text/plain": [
       "<matplotlib.image.AxesImage at 0x1be6bb98828>"
      ]
     },
     "execution_count": 3,
     "metadata": {},
     "output_type": "execute_result"
    },
    {
     "data": {
      "image/png": "[encoded data removed]",
      "text/plain": [
       "<Figure size 432x288 with 1 Axes>"
      ]
     },
     "metadata": {
      "needs_background": "light"
     },
     "output_type": "display_data"
    }
   ],
   "source": [
    "kay = makeKMatrix(1,4,4);\n",
    "plt.imshow(kay)"
   ]
  },
  {
   "cell_type": "code",
   "execution_count": 4,
   "metadata": {},
   "outputs": [],
   "source": [
    "def makeExpLamSData(S,spin):\n",
    "    '''Construct the length N vector exp(spin*lmbd*S[:,l]) for every single l = 0...L-1.\n",
    "    Each length N vector stands for a diagonal matrix of size N-by-N. \n",
    "    There are L total such matrices.\n",
    "    For efficiency, store information for all L matrices in one N-by-L 2D array.\n",
    "    Each column represents a different matrix'''\n",
    "    \n",
    "    assert spin == 1 or spin == -1, \"Spin value must be +1 or -1\"\n",
    "    \n",
    "    diags = np.zeros((N,L),dtype=float);\n",
    "    for l in np.arange(L):\n",
    "        diags[:,l] = np.exp(lmbd*S[:,l]*spin);\n",
    "        \n",
    "    return diags"
   ]
  },
  {
   "cell_type": "code",
   "execution_count": 6,
   "metadata": {},
   "outputs": [],
   "source": [
    "def makeGMatrix(expVData):\n",
    "    '''Construct green's funtion by multiplying chain of matrices together\n",
    "    G = (I + B_L-1....B_1B_0)^(-1), B_l = invexpdtK * explamS_l\n",
    "    \n",
    "    Susceptible to round off error accumulation when L is large'''\n",
    "    #TODO: avoid constructing identities?\n",
    "    Bmat = np.identity(N, dtype=float)\n",
    "    #form B(L-1)....B(0) by multiplying right to left\n",
    "    for l in np.arange(L):\n",
    "        Bmat = (invexpdtK*expVData[:,l]) @ Bmat\n",
    "        #print(Bmat)\n",
    "    invG = np.identity(N, dtype=float) + Bmat;\n",
    "    #plt.imshow(invG)\n",
    "    Gmatrix = la.inv(invG);\n",
    "    return Gmatrix"
   ]
  },
  {
   "cell_type": "code",
   "execution_count": 5,
   "metadata": {},
   "outputs": [],
   "source": [
    "def makeGMatrix_QR(expVData,l_shift,batch_size=10,check=False):\n",
    "    '''Calculate green's funtion from scratch using Pivoted-QR to avoid \n",
    "    numerical error accumulation. Method described in tutorial\n",
    "    \n",
    "    Args:\n",
    "        batch_size: number of B matrices safe to multiply together without \n",
    "                    accumulating too much error\n",
    "        l_shift: account for change in GF defn after l wraps\n",
    "        expVData:  N-by-L 2D array, each column is exp(spin*lmbd*S[:,l]).\n",
    "        check: bool, whether to check if batch_size is safe\n",
    "        \n",
    "    Returns:\n",
    "        (N,N) Greens function matrix\n",
    "    '''\n",
    "    \n",
    "    #print('calculating greens fuction from scratch using QR...')\n",
    "    #print('batch size between QRs is',batch_size)\n",
    "    \n",
    "    #dimensions\n",
    "    N,L = expVData.shape\n",
    "    \n",
    "    #account for l_shift wraps: Roll forward, so that we start with \n",
    "    # the l-th column in zero-th column\n",
    "    expVData = np.roll(expVData,-l_shift,axis=1)\n",
    "\n",
    "    #divide into batches to reduce number of QR decomps we have to do\n",
    "    num_batches = L//batch_size\n",
    "    assert L % batch_size == 0, \"can't split L into even batches\"\n",
    "    \n",
    "    Bmats = [];\n",
    "    #form every batch by normal matrix multiplication\n",
    "    for j in np.arange(num_batches):\n",
    "        #split along axis 1 (L-axis) into batches\n",
    "        data_j = expVData[:,j*batch_size:(j+1)*batch_size]\n",
    "        #print(data_j.shape)\n",
    "        #start with identity\n",
    "        Bmat = np.identity(N, dtype=float)\n",
    "        #form B[(j+1)*b]....B[j*b] by multiplying right to left\n",
    "        for l in np.arange(data_j.shape[1]):\n",
    "            Bmat = (invexpdtK*data_j[:,l]) @ Bmat\n",
    "        Bmats.append(Bmat)\n",
    "    \n",
    "    #Now, go through Bmats and calculate matrix products \n",
    "    Q,R,perm = la.qr(Bmats[0],pivoting=True)\n",
    "    inv_perm = np.argsort(perm) #inverse of permutation: P^{-1} = P^T.\n",
    "    #print(la.norm(Bmat_0-Q @ R[:,inv_perm]))\n",
    "    D_arr = np.diagonal(R)\n",
    "    T = 1/D_arr[:,None] * R[:,inv_perm] #T = inv(D) @ R @ P^T\n",
    "    #print(la.norm(Bmat_0 - (Q * D_arr) @ T))\n",
    "    \n",
    "    #accum = Bmats[0]\n",
    "    for l in np.arange(1,num_batches):\n",
    "        #l-th B matrix\n",
    "        #Bmat_l = invexpdtK*expVData[:,l]\n",
    "        #accum = Bmats[l] @ accum\n",
    "        C = Bmats[l] @ Q * D_arr\n",
    "        Q,R,perm = la.qr(C,pivoting=True)\n",
    "        inv_perm = np.argsort(perm)\n",
    "        D_arr = np.diagonal(R)\n",
    "        T = ((1/D_arr[:,None]) * R[:,inv_perm]) @ T\n",
    "        #print(la.norm(accum-(Q*D_arr)@T))\n",
    "    \n",
    "    #post processing\n",
    "    Db_arr = np.zeros(D_arr.shape)\n",
    "    Ds_arr = np.zeros(D_arr.shape)\n",
    "    for i in np.arange(N):\n",
    "        if np.abs(D_arr[i]) > 1:\n",
    "            Db_arr[i] = D_arr[i]\n",
    "            Ds_arr[i] = 1\n",
    "        else:\n",
    "            Db_arr[i] = 1\n",
    "            Ds_arr[i] = D_arr[i]\n",
    "            \n",
    "    #result\n",
    "    g = la.solve(1/Db_arr[:,None] * np.transpose(Q) + Ds_arr[:,None]*T,\\\n",
    "                 1/Db_arr[:,None] * np.transpose(Q))\n",
    "    \n",
    "    #check == False for simulations, only for experience\n",
    "    if check:\n",
    "        print(\"checking if batch size\",batch_size,\"is safe\")\n",
    "        \n",
    "        #start with B_0\n",
    "        Bmat_0 = invexpdtK*expVData[:,0]\n",
    "        Q,R,perm = la.qr(Bmat_0,pivoting=True)\n",
    "        inv_perm = np.argsort(perm) \n",
    "        D_arr = np.diagonal(R)\n",
    "        T = 1/D_arr[:,None] * R[:,inv_perm] #T = inv(D) @ R @ P^T\n",
    "        \n",
    "        #Matrix products via QR trick\n",
    "        for l in np.arange(1,L):\n",
    "            #l-th B matrix\n",
    "            Bmat_l = invexpdtK*expVData[:,l]\n",
    "            C = Bmat_l @ Q * D_arr\n",
    "            Q,R,perm = la.qr(C,pivoting=True)\n",
    "            inv_perm = np.argsort(perm)\n",
    "            D_arr = np.diagonal(R)\n",
    "            T = ((1/D_arr[:,None]) * R[:,inv_perm]) @ T\n",
    "            \n",
    "        #post processing\n",
    "        Db_arr = np.zeros(D_arr.shape)\n",
    "        Ds_arr = np.zeros(D_arr.shape)\n",
    "        for i in np.arange(N):\n",
    "            if np.abs(D_arr[i]) > 1:\n",
    "                Db_arr[i] = D_arr[i]\n",
    "                Ds_arr[i] = 1\n",
    "            else:\n",
    "                Db_arr[i] = 1\n",
    "                Ds_arr[i] = D_arr[i]\n",
    "            \n",
    "        #check result\n",
    "        g_check = la.solve(1/Db_arr[:,None] * np.transpose(Q) + Ds_arr[:,None]*T,\\\n",
    "                 1/Db_arr[:,None] * np.transpose(Q))\n",
    "        \n",
    "        print(\"deviation =\",la.norm(g-g_check))\n",
    "    \n",
    "    return g\n",
    "    ##TODO"
   ]
  },
  {
   "cell_type": "code",
   "execution_count": 13,
   "metadata": {},
   "outputs": [
    {
     "name": "stdout",
     "output_type": "stream",
     "text": [
      "checking if batch size 50 is safe\n",
      "deviation = 6.0290668411681955e-15\n",
      "1.3464025503902054e-15\n"
     ]
    },
    {
     "data": {
      "text/plain": [
       "<matplotlib.image.AxesImage at 0x1be6c76bc50>"
      ]
     },
     "execution_count": 13,
     "metadata": {},
     "output_type": "execute_result"
    },
    {
     "data": {
      "image/png": "[encoded data removed]",
      "text/plain": [
       "<Figure size 432x288 with 1 Axes>"
      ]
     },
     "metadata": {
      "needs_background": "light"
     },
     "output_type": "display_data"
    }
   ],
   "source": [
    "gtest = makeGMatrix_QR(expVuData,0,50,check=True)\n",
    "gorigin = makeGMatrix(expVuData)\n",
    "print(la.norm(gtest-gorigin))\n",
    "plt.imshow(gtest)"
   ]
  },
  {
   "cell_type": "code",
   "execution_count": 14,
   "metadata": {},
   "outputs": [
    {
     "data": {
      "text/plain": [
       "<matplotlib.image.AxesImage at 0x1be6c7c8358>"
      ]
     },
     "execution_count": 14,
     "metadata": {},
     "output_type": "execute_result"
    },
    {
     "data": {
      "image/png": "[encoded data removed]",
      "text/plain": [
       "<Figure size 432x288 with 1 Axes>"
      ]
     },
     "metadata": {
      "needs_background": "light"
     },
     "output_type": "display_data"
    }
   ],
   "source": [
    "plt.imshow(gorigin)"
   ]
  },
  {
   "cell_type": "code",
   "execution_count": 9,
   "metadata": {},
   "outputs": [
    {
     "data": {
      "text/plain": [
       "array([[ 3,  4,  5, 14],\n",
       "       [ 6,  7,  8, 13],\n",
       "       [ 9, 10, 11, 12]])"
      ]
     },
     "execution_count": 9,
     "metadata": {},
     "output_type": "execute_result"
    }
   ],
   "source": [
    "mat = np.array([[3,4,5,14],[6,7,8,13],[9,10,11,12]])\n",
    "np.roll(mat,-4,axis=1)"
   ]
  },
  {
   "cell_type": "code",
   "execution_count": null,
   "metadata": {},
   "outputs": [],
   "source": []
  },
  {
   "cell_type": "code",
   "execution_count": null,
   "metadata": {},
   "outputs": [],
   "source": []
  },
  {
   "cell_type": "code",
   "execution_count": null,
   "metadata": {},
   "outputs": [],
   "source": []
  },
  {
   "cell_type": "code",
   "execution_count": null,
   "metadata": {},
   "outputs": [],
   "source": []
  },
  {
   "cell_type": "code",
   "execution_count": null,
   "metadata": {},
   "outputs": [],
   "source": []
  },
  {
   "cell_type": "code",
   "execution_count": null,
   "metadata": {},
   "outputs": [],
   "source": []
  },
  {
   "cell_type": "code",
   "execution_count": 10,
   "metadata": {},
   "outputs": [],
   "source": [
    "# Input Parameters\n",
    "Nx = 6; #height of cluster\n",
    "Ny = 6; #width of cluster\n",
    "beta = 0.1; #inverse temperature\n",
    "L = 50; #number of imaginary time slices\n",
    "U = 4; #Coulomb interaction strength\n",
    "t = 1; #Hopping strength\n",
    "nwarm = 200; #number of warm up Monte Carlo sweeps.\n",
    "nmeas = 800; #number of measurement Monte Carlo sweeps.\n",
    "\n",
    "# Derived constants\n",
    "N = Nx*Ny; #total number of grid points\n",
    "dt = beta/L; #imaginary time interval\n",
    "lmbd = np.arccosh(np.exp(U*dt/2)) #lambda in H-S transform\n",
    "kmatrix = makeKMatrix(t,Nx,Ny);\n",
    "invexpdtK = la.expm(-dt*kmatrix);\n",
    "expdtK = la.expm(dt*kmatrix); #this matrix used only in G-fun wrapping\n",
    "\n",
    "#Initialize Auxillary H-S field as N-by-L 2D array.\n",
    "#Each column is a different time slice\n",
    "S = np.random.choice([-1,1],(N,L))\n",
    "expVuData = makeExpLamSData(S,spin=1);\n",
    "expVdData = makeExpLamSData(S,spin=-1);\n",
    "Gu = makeGMatrix(expVuData)\n",
    "Gd = makeGMatrix(expVdData)"
   ]
  },
  {
   "cell_type": "code",
   "execution_count": 15,
   "metadata": {},
   "outputs": [],
   "source": [
    "wrap_every = 5; \n",
    "safe_batch_size = 10;"
   ]
  },
  {
   "cell_type": "code",
   "execution_count": null,
   "metadata": {},
   "outputs": [],
   "source": [
    "beta_array = np.array([0.1,1,10,100])\n",
    "L_array = np.array([10,50,200,500])"
   ]
  },
  {
   "cell_type": "code",
   "execution_count": 16,
   "metadata": {
    "scrolled": false
   },
   "outputs": [
    {
     "name": "stdout",
     "output_type": "stream",
     "text": [
      "recompute GF every 5 wraps\n",
      "10 matmuls between QRs\n",
      "Sweep #  0\n",
      "Sweep #  100\n",
      "Sweep #  200\n",
      "Sweep #  300\n",
      "Sweep #  400\n",
      "Sweep #  500\n",
      "Sweep #  600\n",
      "Sweep #  700\n",
      "Sweep #  800\n",
      "Sweep #  900\n",
      "<n_up> =  0.49993462731113597\n",
      "<n_dn> =  0.5000653726888671\n",
      "d =  0.22526397622926214\n",
      "<M_z> =  0.5494720475414787\n"
     ]
    },
    {
     "data": {
      "image/png": "[encoded data removed]",
      "text/plain": [
       "<Figure size 432x288 with 1 Axes>"
      ]
     },
     "metadata": {
      "needs_background": "light"
     },
     "output_type": "display_data"
    }
   ],
   "source": [
    "#Measurement accumulators for <m^2>\n",
    "nup,ndn,doubleocc = 0.0,0.0,0.0;\n",
    "print(\"recompute GF every\",wrap_every,'wraps')\n",
    "print(safe_batch_size,'matmuls between QRs')\n",
    "\n",
    "#Run simulation\n",
    "for n in np.arange(nmeas+nwarm):\n",
    "    # Monitor progress\n",
    "    if n % 50 == 0:\n",
    "        print('Sweep # ',n)\n",
    "        \n",
    "    # Recompute G-Funs before taking measurements at sweep #n to reduce accumulated rounding errors\n",
    "    Gu = makeGMatrix_QR(expVuData,0,safe_batch_size)\n",
    "    Gd = makeGMatrix_QR(expVdData,0,safe_batch_size)\n",
    "    #take measurements if finished warmup\n",
    "    if n >= nwarm:\n",
    "        for i in np.arange(N):\n",
    "            nup = nup + (1- Gu[i,i])/N;\n",
    "            ndn = ndn + (1- Gd[i,i])/N;\n",
    "            doubleocc = doubleocc + (1 - Gu[i,i])*(1 - Gd[i,i])/N;\n",
    "            \n",
    "    # After maybe taking measurement, go through every [i,l] pair and propose \n",
    "    # flipping s[i,l]. Result: A S-field drawn with probability propto w_s\n",
    "    for l in np.arange(L):\n",
    "        if l % wrap_every == 0:\n",
    "            #recompute GFs from scratch:\n",
    "            Gu = makeGMatrix_QR(expVuData,l,safe_batch_size)\n",
    "            Gd = makeGMatrix_QR(expVdData,l,safe_batch_size)\n",
    "        for i in np.arange(N):\n",
    "            #Implicitly propose flipping s[i,l], calculate accept ratio\n",
    "            detu = 1 + (1-Gu[i,i])*(np.exp(-2*lmbd*S[i,l])-1);\n",
    "            detd = 1 + (1-Gd[i,i])*(np.exp(2*lmbd*S[i,l])-1);\n",
    "            alpha = detu*detd;\n",
    "            beta = np.random.random();\n",
    "            #Probability Min(1,alpha) of accepting flip \n",
    "            #If accept, update Gfuns, S[i,l], expVu[i,l],expVd[i,l]\n",
    "            #If reject, do nothing, look at next entry of S\n",
    "            if beta <= alpha:\n",
    "                #print('flipping s[ i =',i,', l =',l,']')\n",
    "                #Update G-funs using old s-field entries\n",
    "                #Note : have to copy arrays to avoid modifying G-Funs prematurely\n",
    "                col = Gu[:,i].copy(); col[i] = col[i]-1; #i-th column of Gup - delta\n",
    "                row = Gu[i,:].copy(); #ith row of Gup\n",
    "                mat = np.outer(col,row)\n",
    "                Gu = Gu + (np.exp(-2*lmbd*S[i,l])-1)*mat/detu;\n",
    "                \n",
    "                col = Gd[:,i].copy(); col[i] = col[i]-1; #i-th column of Gdn - delta\n",
    "                row = Gd[i,:].copy(); #ith row of Gdn\n",
    "                mat = np.outer(col,row)\n",
    "                Gd = Gd + (np.exp(2*lmbd*S[i,l])-1)*mat/detd;\n",
    "                \n",
    "                #Update S matrix\n",
    "                S[i,l] = -S[i,l];\n",
    "                \n",
    "                #Update [i,l] entry of ExpLamSData_up, ExpLamSData_dn\n",
    "                expVuData[i,l] = np.exp(lmbd*S[i,l]);\n",
    "                expVdData[i,l] = np.exp(-lmbd*S[i,l]);\n",
    "                \n",
    "        #After each l slice, wrap the B matrices.\n",
    "        #We do this in order to continue using nice formulas that allow us to quickly\n",
    "        #  calculate alpha and update G-funs.\n",
    "        #Exploit numpy broadcasting rules to avoid forming diagonal matrices.\n",
    "        #After l runs through 0...L-1, G-fun returns to textbook form, \n",
    "        #  with some roundoff errors from wrapping.\n",
    "        diag_u = expVuData[:,l];\n",
    "        diag_d = expVdData[:,l]; # == inv(diag_up)\n",
    "        \n",
    "        Blu = invexpdtK * diag_u;\n",
    "        invBlu = diag_d[:,None] * expdtK;\n",
    "        Gu = Blu @ Gu @ invBlu;\n",
    "        \n",
    "        Bld = invexpdtK * diag_d;\n",
    "        invBld = diag_u[:,None] * expdtK;\n",
    "        Gd = Bld @ Gd @ invBld;\n",
    "        \n",
    "        \n",
    "#Results\n",
    "plt.imshow(S)\n",
    "print(\"<n_up> = \",nup/nmeas)\n",
    "print(\"<n_dn> = \", ndn/nmeas)\n",
    "print('d = ',doubleocc/nmeas)\n",
    "print(\"<M_z> = \",(nup+ndn-2*doubleocc)/nmeas)"
   ]
  },
  {
   "cell_type": "code",
   "execution_count": null,
   "metadata": {},
   "outputs": [],
   "source": []
  },
  {
   "cell_type": "code",
   "execution_count": null,
   "metadata": {},
   "outputs": [],
   "source": []
  }
 ],
 "metadata": {
  "kernelspec": {
   "display_name": "Python 3",
   "language": "python",
   "name": "python3"
  },
  "language_info": {
   "codemirror_mode": {
    "name": "ipython",
    "version": 3
   },
   "file_extension": ".py",
   "mimetype": "text/x-python",
   "name": "python",
   "nbconvert_exporter": "python",
   "pygments_lexer": "ipython3",
   "version": "3.7.3"
  }
 },
 "nbformat": 4,
 "nbformat_minor": 2
}
